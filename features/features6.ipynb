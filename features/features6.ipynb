{
 "cells": [
  {
   "attachments": {},
   "cell_type": "markdown",
   "metadata": {},
   "source": [
    "## avaliando a função avalia_sinal.py"
   ]
  },
  {
   "cell_type": "code",
   "execution_count": 32,
   "metadata": {},
   "outputs": [],
   "source": [
    "from avalia_sinal import get_probs"
   ]
  },
  {
   "cell_type": "code",
   "execution_count": 33,
   "metadata": {},
   "outputs": [],
   "source": [
    "path_sinal = r'C:\\Users\\vinic\\Documents\\datasets\\sinais_renomeados_kay\\Normal\\normal19.wav'\n",
    "#path_sinal = r'C:\\Users\\vinic\\Documents\\datasets\\sinais_renomeados_kay\\Paralisia\\paralisia7.wav'\n",
    "#path_sinal = r'C:\\Users\\vinic\\Documents\\datasets\\sinais_renomeados_kay\\Edema\\edema3.wav'\n",
    "#path_sinal = r'C:\\Users\\vinic\\Documents\\datasets\\sinais_renomeados_kay\\Nódulo\\nodulo1.wav'\n",
    "#path_sinal = r'D:\\Documentos_HDD\\013_postdocIFPB\\Engenharia Elétrica-vozes\\Fernando\\fabav2.wav'"
   ]
  },
  {
   "cell_type": "code",
   "execution_count": 34,
   "metadata": {},
   "outputs": [],
   "source": [
    "path_modelo = r'C:\\Users\\vinic\\Documents\\IFPB\\Arquitetura\\proj-arquit\\modelo\\project_model.h5'"
   ]
  },
  {
   "cell_type": "code",
   "execution_count": 36,
   "metadata": {},
   "outputs": [
    {
     "ename": "IndexError",
     "evalue": "tuple index out of range",
     "output_type": "error",
     "traceback": [
      "\u001b[1;31m---------------------------------------------------------------------------\u001b[0m",
      "\u001b[1;31mIndexError\u001b[0m                                Traceback (most recent call last)",
      "Cell \u001b[1;32mIn[36], line 1\u001b[0m\n\u001b[1;32m----> 1\u001b[0m sdl_p , ptl_p \u001b[39m=\u001b[39m get_probs(path_sinal,path_modelo)\n\u001b[0;32m      2\u001b[0m \u001b[39mprint\u001b[39m(\u001b[39mf\u001b[39m\u001b[39m\"\u001b[39m\u001b[39mProbabilidade de ter patologia: \u001b[39m\u001b[39m{\u001b[39;00mptl_p\u001b[39m:\u001b[39;00m\u001b[39m.2f\u001b[39m\u001b[39m}\u001b[39;00m\u001b[39m %\u001b[39m\u001b[39m\"\u001b[39m)\n\u001b[0;32m      3\u001b[0m \u001b[39mprint\u001b[39m(\u001b[39mf\u001b[39m\u001b[39m\"\u001b[39m\u001b[39mProbabilidade de ter saúde: \u001b[39m\u001b[39m{\u001b[39;00msdl_p\u001b[39m:\u001b[39;00m\u001b[39m.2f\u001b[39m\u001b[39m}\u001b[39;00m\u001b[39m %\u001b[39m\u001b[39m\"\u001b[39m)\n",
      "File \u001b[1;32mc:\\Users\\vinic\\Documents\\IFPB\\Arquitetura\\proj-arquit\\features\\avalia_sinal.py:16\u001b[0m, in \u001b[0;36mget_probs\u001b[1;34m(path_sinal, path_modelo)\u001b[0m\n\u001b[0;32m     13\u001b[0m \u001b[39m# carregando o sinal\u001b[39;00m\n\u001b[0;32m     14\u001b[0m data, samplerate \u001b[39m=\u001b[39m sf\u001b[39m.\u001b[39mread(path_sinal)\n\u001b[1;32m---> 16\u001b[0m \u001b[39mif\u001b[39;00m data\u001b[39m.\u001b[39;49mshape[\u001b[39m1\u001b[39;49m] \u001b[39m>\u001b[39m \u001b[39m1\u001b[39m:\n\u001b[0;32m     17\u001b[0m    data \u001b[39m=\u001b[39m np\u001b[39m.\u001b[39mmean(data, axis\u001b[39m=\u001b[39m\u001b[39m1\u001b[39m)\n\u001b[0;32m     19\u001b[0m \u001b[39m# criando o dataframe para receber as métricas\u001b[39;00m\n",
      "\u001b[1;31mIndexError\u001b[0m: tuple index out of range"
     ]
    }
   ],
   "source": [
    "sdl_p , ptl_p = get_probs(path_sinal,path_modelo)\n",
    "print(f\"Probabilidade de ter patologia: {ptl_p:.2f} %\")\n",
    "print(f\"Probabilidade de ter saúde: {sdl_p:.2f} %\")"
   ]
  }
 ],
 "metadata": {
  "kernelspec": {
   "display_name": "venv",
   "language": "python",
   "name": "python3"
  },
  "language_info": {
   "codemirror_mode": {
    "name": "ipython",
    "version": 3
   },
   "file_extension": ".py",
   "mimetype": "text/x-python",
   "name": "python",
   "nbconvert_exporter": "python",
   "pygments_lexer": "ipython3",
   "version": "3.10.11"
  },
  "orig_nbformat": 4
 },
 "nbformat": 4,
 "nbformat_minor": 2
}
