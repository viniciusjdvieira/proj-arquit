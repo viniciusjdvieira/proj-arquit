{
 "cells": [
  {
   "attachments": {},
   "cell_type": "markdown",
   "metadata": {},
   "source": [
    "## Testando as features e a classificação\n"
   ]
  },
  {
   "cell_type": "code",
   "execution_count": 1,
   "metadata": {},
   "outputs": [],
   "source": [
    "import pandas as pd\n",
    "import numpy as np\n",
    "import os\n",
    "import tensorflow as tf\n",
    "import scipy\n",
    "import parselmouth\n",
    "import soundfile as sf\n",
    "import librosa"
   ]
  },
  {
   "cell_type": "code",
   "execution_count": 2,
   "metadata": {},
   "outputs": [
    {
     "name": "stdout",
     "output_type": "stream",
     "text": [
      "Versão do TensorFlow: 2.12.0\n",
      "Versão do NumPy: 1.22.4\n",
      "Versão do Pandas: 1.4.2\n",
      "Versão do librosa: 0.10.0\n",
      "Versão do SciPy: 1.10.1\n",
      "Versão do soundfile: 0.12.1\n"
     ]
    }
   ],
   "source": [
    "print(\"Versão do TensorFlow:\", tf.__version__)\n",
    "print(\"Versão do NumPy:\", np.__version__)\n",
    "print(\"Versão do Pandas:\", pd.__version__)\n",
    "print(\"Versão do librosa:\", librosa.__version__)\n",
    "print(\"Versão do SciPy:\", scipy.__version__)\n",
    "print(\"Versão do soundfile:\", sf.__version__)\n"
   ]
  },
  {
   "cell_type": "code",
   "execution_count": 3,
   "metadata": {},
   "outputs": [],
   "source": [
    "path_sdl = r'C:\\Users\\vinic\\Documents\\datasets\\sinais_renomeados_kay\\Normal'\n",
    "path_ptl = r'C:\\Users\\vinic\\Documents\\datasets\\sinais_renomeados_kay\\Paralisia'\n",
    "path_edm = r'C:\\Users\\vinic\\Documents\\datasets\\sinais_renomeados_kay\\Edema'\n",
    "path_ndl = r'C:\\Users\\vinic\\Documents\\datasets\\sinais_renomeados_kay\\Nódulo'"
   ]
  },
  {
   "cell_type": "code",
   "execution_count": 4,
   "metadata": {},
   "outputs": [
    {
     "data": {
      "text/plain": [
       "'C:\\\\Users\\\\vinic\\\\Documents\\\\datasets\\\\sinais_renomeados_kay\\\\Normal'"
      ]
     },
     "execution_count": 4,
     "metadata": {},
     "output_type": "execute_result"
    }
   ],
   "source": [
    "path_sdl"
   ]
  },
  {
   "attachments": {},
   "cell_type": "markdown",
   "metadata": {},
   "source": [
    "### importando biblioteas de features"
   ]
  },
  {
   "cell_type": "code",
   "execution_count": 5,
   "metadata": {},
   "outputs": [],
   "source": [
    "from feat_ext import get_lpc, get_matrix_cpps, get_matrix_slope"
   ]
  },
  {
   "attachments": {},
   "cell_type": "markdown",
   "metadata": {},
   "source": [
    "### carregando um sinal saudável"
   ]
  },
  {
   "cell_type": "code",
   "execution_count": 6,
   "metadata": {},
   "outputs": [
    {
     "name": "stdout",
     "output_type": "stream",
     "text": [
      "25000\n"
     ]
    }
   ],
   "source": [
    "data_sdl, samplerate_sdl = sf.read(path_sdl+'\\\\normal9.wav')\n",
    "print(samplerate_sdl)"
   ]
  },
  {
   "cell_type": "code",
   "execution_count": 8,
   "metadata": {},
   "outputs": [],
   "source": [
    "df_sdl = pd.DataFrame()"
   ]
  },
  {
   "cell_type": "code",
   "execution_count": 9,
   "metadata": {},
   "outputs": [
    {
     "data": {
      "text/plain": [
       "(291, 29)"
      ]
     },
     "execution_count": 9,
     "metadata": {},
     "output_type": "execute_result"
    }
   ],
   "source": [
    "media_lpcs_sdl, lpcs_sdl = get_lpc(data_sdl, order = 29)\n",
    "np.shape(lpcs_sdl)"
   ]
  },
  {
   "cell_type": "code",
   "execution_count": 11,
   "metadata": {},
   "outputs": [
    {
     "data": {
      "text/plain": [
       "(291,)"
      ]
     },
     "execution_count": 11,
     "metadata": {},
     "output_type": "execute_result"
    }
   ],
   "source": [
    "filename_sdl = path_sdl+'\\\\normal9.wav'\n",
    "cpps_sdl = get_matrix_cpps(filename_sdl, n_frames = np.shape(lpcs_sdl)[0])\n",
    "np.shape(cpps_sdl)"
   ]
  },
  {
   "cell_type": "code",
   "execution_count": 12,
   "metadata": {},
   "outputs": [
    {
     "data": {
      "text/plain": [
       "(291,)"
      ]
     },
     "execution_count": 12,
     "metadata": {},
     "output_type": "execute_result"
    }
   ],
   "source": [
    "slope_sdl = get_matrix_slope(filename_sdl, n_frames = np.shape(lpcs_sdl)[0])\n",
    "np.shape(slope_sdl)"
   ]
  },
  {
   "cell_type": "code",
   "execution_count": 13,
   "metadata": {},
   "outputs": [
    {
     "data": {
      "text/html": [
       "<div>\n",
       "<style scoped>\n",
       "    .dataframe tbody tr th:only-of-type {\n",
       "        vertical-align: middle;\n",
       "    }\n",
       "\n",
       "    .dataframe tbody tr th {\n",
       "        vertical-align: top;\n",
       "    }\n",
       "\n",
       "    .dataframe thead th {\n",
       "        text-align: right;\n",
       "    }\n",
       "</style>\n",
       "<table border=\"1\" class=\"dataframe\">\n",
       "  <thead>\n",
       "    <tr style=\"text-align: right;\">\n",
       "      <th></th>\n",
       "      <th>cpps</th>\n",
       "      <th>slope</th>\n",
       "    </tr>\n",
       "  </thead>\n",
       "  <tbody>\n",
       "    <tr>\n",
       "      <th>0</th>\n",
       "      <td>12.870373</td>\n",
       "      <td>5.809944</td>\n",
       "    </tr>\n",
       "    <tr>\n",
       "      <th>1</th>\n",
       "      <td>12.870373</td>\n",
       "      <td>5.809944</td>\n",
       "    </tr>\n",
       "    <tr>\n",
       "      <th>2</th>\n",
       "      <td>12.870373</td>\n",
       "      <td>5.809944</td>\n",
       "    </tr>\n",
       "    <tr>\n",
       "      <th>3</th>\n",
       "      <td>12.870373</td>\n",
       "      <td>5.809944</td>\n",
       "    </tr>\n",
       "    <tr>\n",
       "      <th>4</th>\n",
       "      <td>12.870373</td>\n",
       "      <td>5.809944</td>\n",
       "    </tr>\n",
       "    <tr>\n",
       "      <th>...</th>\n",
       "      <td>...</td>\n",
       "      <td>...</td>\n",
       "    </tr>\n",
       "    <tr>\n",
       "      <th>286</th>\n",
       "      <td>12.870373</td>\n",
       "      <td>5.809944</td>\n",
       "    </tr>\n",
       "    <tr>\n",
       "      <th>287</th>\n",
       "      <td>12.870373</td>\n",
       "      <td>5.809944</td>\n",
       "    </tr>\n",
       "    <tr>\n",
       "      <th>288</th>\n",
       "      <td>12.870373</td>\n",
       "      <td>5.809944</td>\n",
       "    </tr>\n",
       "    <tr>\n",
       "      <th>289</th>\n",
       "      <td>12.870373</td>\n",
       "      <td>5.809944</td>\n",
       "    </tr>\n",
       "    <tr>\n",
       "      <th>290</th>\n",
       "      <td>12.870373</td>\n",
       "      <td>5.809944</td>\n",
       "    </tr>\n",
       "  </tbody>\n",
       "</table>\n",
       "<p>291 rows × 2 columns</p>\n",
       "</div>"
      ],
      "text/plain": [
       "          cpps     slope\n",
       "0    12.870373  5.809944\n",
       "1    12.870373  5.809944\n",
       "2    12.870373  5.809944\n",
       "3    12.870373  5.809944\n",
       "4    12.870373  5.809944\n",
       "..         ...       ...\n",
       "286  12.870373  5.809944\n",
       "287  12.870373  5.809944\n",
       "288  12.870373  5.809944\n",
       "289  12.870373  5.809944\n",
       "290  12.870373  5.809944\n",
       "\n",
       "[291 rows x 2 columns]"
      ]
     },
     "execution_count": 13,
     "metadata": {},
     "output_type": "execute_result"
    }
   ],
   "source": [
    "df_sdl['cpps'] = cpps_sdl\n",
    "df_sdl['slope'] = slope_sdl\n",
    "df_sdl"
   ]
  },
  {
   "cell_type": "code",
   "execution_count": 14,
   "metadata": {},
   "outputs": [
    {
     "data": {
      "text/html": [
       "<div>\n",
       "<style scoped>\n",
       "    .dataframe tbody tr th:only-of-type {\n",
       "        vertical-align: middle;\n",
       "    }\n",
       "\n",
       "    .dataframe tbody tr th {\n",
       "        vertical-align: top;\n",
       "    }\n",
       "\n",
       "    .dataframe thead th {\n",
       "        text-align: right;\n",
       "    }\n",
       "</style>\n",
       "<table border=\"1\" class=\"dataframe\">\n",
       "  <thead>\n",
       "    <tr style=\"text-align: right;\">\n",
       "      <th></th>\n",
       "      <th>cpps</th>\n",
       "      <th>slope</th>\n",
       "      <th>lpc1</th>\n",
       "      <th>lpc2</th>\n",
       "      <th>lpc3</th>\n",
       "      <th>lpc4</th>\n",
       "      <th>lpc5</th>\n",
       "      <th>lpc6</th>\n",
       "      <th>lpc7</th>\n",
       "      <th>lpc8</th>\n",
       "      <th>...</th>\n",
       "      <th>lpc20</th>\n",
       "      <th>lpc21</th>\n",
       "      <th>lpc22</th>\n",
       "      <th>lpc23</th>\n",
       "      <th>lpc24</th>\n",
       "      <th>lpc25</th>\n",
       "      <th>lpc26</th>\n",
       "      <th>lpc27</th>\n",
       "      <th>lpc28</th>\n",
       "      <th>lpc29</th>\n",
       "    </tr>\n",
       "  </thead>\n",
       "  <tbody>\n",
       "    <tr>\n",
       "      <th>0</th>\n",
       "      <td>12.870373</td>\n",
       "      <td>5.809944</td>\n",
       "      <td>-2.018505</td>\n",
       "      <td>1.287484</td>\n",
       "      <td>-0.342385</td>\n",
       "      <td>0.204282</td>\n",
       "      <td>0.070042</td>\n",
       "      <td>-0.560863</td>\n",
       "      <td>0.582084</td>\n",
       "      <td>-0.371476</td>\n",
       "      <td>...</td>\n",
       "      <td>0.143436</td>\n",
       "      <td>-0.303081</td>\n",
       "      <td>0.175278</td>\n",
       "      <td>0.022537</td>\n",
       "      <td>-0.098849</td>\n",
       "      <td>0.126725</td>\n",
       "      <td>-0.273139</td>\n",
       "      <td>0.020313</td>\n",
       "      <td>0.291590</td>\n",
       "      <td>-0.133779</td>\n",
       "    </tr>\n",
       "    <tr>\n",
       "      <th>1</th>\n",
       "      <td>12.870373</td>\n",
       "      <td>5.809944</td>\n",
       "      <td>-2.090642</td>\n",
       "      <td>1.559807</td>\n",
       "      <td>-0.768561</td>\n",
       "      <td>0.495505</td>\n",
       "      <td>0.119454</td>\n",
       "      <td>-0.770119</td>\n",
       "      <td>0.573943</td>\n",
       "      <td>0.003828</td>\n",
       "      <td>...</td>\n",
       "      <td>0.064526</td>\n",
       "      <td>-0.359166</td>\n",
       "      <td>0.405969</td>\n",
       "      <td>-0.278716</td>\n",
       "      <td>0.226127</td>\n",
       "      <td>-0.209522</td>\n",
       "      <td>-0.015640</td>\n",
       "      <td>-0.078652</td>\n",
       "      <td>0.289518</td>\n",
       "      <td>-0.124298</td>\n",
       "    </tr>\n",
       "    <tr>\n",
       "      <th>2</th>\n",
       "      <td>12.870373</td>\n",
       "      <td>5.809944</td>\n",
       "      <td>-1.944814</td>\n",
       "      <td>1.138545</td>\n",
       "      <td>-0.237615</td>\n",
       "      <td>0.085187</td>\n",
       "      <td>0.304451</td>\n",
       "      <td>-0.716771</td>\n",
       "      <td>0.461564</td>\n",
       "      <td>-0.132180</td>\n",
       "      <td>...</td>\n",
       "      <td>0.027800</td>\n",
       "      <td>-0.298297</td>\n",
       "      <td>0.295375</td>\n",
       "      <td>-0.098302</td>\n",
       "      <td>0.056308</td>\n",
       "      <td>-0.140106</td>\n",
       "      <td>-0.041198</td>\n",
       "      <td>-0.026400</td>\n",
       "      <td>0.230078</td>\n",
       "      <td>-0.097375</td>\n",
       "    </tr>\n",
       "    <tr>\n",
       "      <th>3</th>\n",
       "      <td>12.870373</td>\n",
       "      <td>5.809944</td>\n",
       "      <td>-2.009600</td>\n",
       "      <td>1.288071</td>\n",
       "      <td>-0.441554</td>\n",
       "      <td>0.448171</td>\n",
       "      <td>-0.186950</td>\n",
       "      <td>-0.382505</td>\n",
       "      <td>0.346811</td>\n",
       "      <td>-0.019045</td>\n",
       "      <td>...</td>\n",
       "      <td>0.222365</td>\n",
       "      <td>-0.458981</td>\n",
       "      <td>0.514230</td>\n",
       "      <td>-0.325514</td>\n",
       "      <td>0.120503</td>\n",
       "      <td>-0.042291</td>\n",
       "      <td>-0.131024</td>\n",
       "      <td>-0.001817</td>\n",
       "      <td>0.233777</td>\n",
       "      <td>-0.105209</td>\n",
       "    </tr>\n",
       "    <tr>\n",
       "      <th>4</th>\n",
       "      <td>12.870373</td>\n",
       "      <td>5.809944</td>\n",
       "      <td>-1.952616</td>\n",
       "      <td>1.076465</td>\n",
       "      <td>-0.103091</td>\n",
       "      <td>0.104569</td>\n",
       "      <td>0.072813</td>\n",
       "      <td>-0.601736</td>\n",
       "      <td>0.623885</td>\n",
       "      <td>-0.223608</td>\n",
       "      <td>...</td>\n",
       "      <td>0.214921</td>\n",
       "      <td>-0.569523</td>\n",
       "      <td>0.505926</td>\n",
       "      <td>-0.205866</td>\n",
       "      <td>0.051402</td>\n",
       "      <td>-0.008822</td>\n",
       "      <td>-0.217084</td>\n",
       "      <td>0.037135</td>\n",
       "      <td>0.297571</td>\n",
       "      <td>-0.150004</td>\n",
       "    </tr>\n",
       "    <tr>\n",
       "      <th>...</th>\n",
       "      <td>...</td>\n",
       "      <td>...</td>\n",
       "      <td>...</td>\n",
       "      <td>...</td>\n",
       "      <td>...</td>\n",
       "      <td>...</td>\n",
       "      <td>...</td>\n",
       "      <td>...</td>\n",
       "      <td>...</td>\n",
       "      <td>...</td>\n",
       "      <td>...</td>\n",
       "      <td>...</td>\n",
       "      <td>...</td>\n",
       "      <td>...</td>\n",
       "      <td>...</td>\n",
       "      <td>...</td>\n",
       "      <td>...</td>\n",
       "      <td>...</td>\n",
       "      <td>...</td>\n",
       "      <td>...</td>\n",
       "      <td>...</td>\n",
       "    </tr>\n",
       "    <tr>\n",
       "      <th>286</th>\n",
       "      <td>12.870373</td>\n",
       "      <td>5.809944</td>\n",
       "      <td>-2.039383</td>\n",
       "      <td>1.610307</td>\n",
       "      <td>-1.036775</td>\n",
       "      <td>0.843336</td>\n",
       "      <td>-0.237378</td>\n",
       "      <td>-0.392924</td>\n",
       "      <td>0.334911</td>\n",
       "      <td>-0.124026</td>\n",
       "      <td>...</td>\n",
       "      <td>0.258569</td>\n",
       "      <td>-0.567647</td>\n",
       "      <td>0.619932</td>\n",
       "      <td>-0.506831</td>\n",
       "      <td>0.392444</td>\n",
       "      <td>-0.310689</td>\n",
       "      <td>0.071172</td>\n",
       "      <td>-0.088670</td>\n",
       "      <td>0.211336</td>\n",
       "      <td>-0.077076</td>\n",
       "    </tr>\n",
       "    <tr>\n",
       "      <th>287</th>\n",
       "      <td>12.870373</td>\n",
       "      <td>5.809944</td>\n",
       "      <td>-1.885117</td>\n",
       "      <td>1.216039</td>\n",
       "      <td>-0.609866</td>\n",
       "      <td>0.528896</td>\n",
       "      <td>0.033812</td>\n",
       "      <td>-0.604165</td>\n",
       "      <td>0.296318</td>\n",
       "      <td>0.126494</td>\n",
       "      <td>...</td>\n",
       "      <td>0.203869</td>\n",
       "      <td>-0.540296</td>\n",
       "      <td>0.574510</td>\n",
       "      <td>-0.295908</td>\n",
       "      <td>0.118191</td>\n",
       "      <td>-0.152239</td>\n",
       "      <td>-0.004371</td>\n",
       "      <td>-0.043495</td>\n",
       "      <td>0.192424</td>\n",
       "      <td>-0.070181</td>\n",
       "    </tr>\n",
       "    <tr>\n",
       "      <th>288</th>\n",
       "      <td>12.870373</td>\n",
       "      <td>5.809944</td>\n",
       "      <td>-1.953808</td>\n",
       "      <td>1.412053</td>\n",
       "      <td>-0.931465</td>\n",
       "      <td>0.915859</td>\n",
       "      <td>-0.224278</td>\n",
       "      <td>-0.649423</td>\n",
       "      <td>0.631124</td>\n",
       "      <td>-0.303664</td>\n",
       "      <td>...</td>\n",
       "      <td>0.325785</td>\n",
       "      <td>-0.471540</td>\n",
       "      <td>0.468220</td>\n",
       "      <td>-0.173323</td>\n",
       "      <td>-0.097386</td>\n",
       "      <td>0.088832</td>\n",
       "      <td>-0.185228</td>\n",
       "      <td>0.149310</td>\n",
       "      <td>0.017455</td>\n",
       "      <td>-0.009086</td>\n",
       "    </tr>\n",
       "    <tr>\n",
       "      <th>289</th>\n",
       "      <td>12.870373</td>\n",
       "      <td>5.809944</td>\n",
       "      <td>-2.044373</td>\n",
       "      <td>1.632851</td>\n",
       "      <td>-1.055183</td>\n",
       "      <td>0.791184</td>\n",
       "      <td>-0.125834</td>\n",
       "      <td>-0.440668</td>\n",
       "      <td>0.241167</td>\n",
       "      <td>0.164711</td>\n",
       "      <td>...</td>\n",
       "      <td>0.275217</td>\n",
       "      <td>-0.524659</td>\n",
       "      <td>0.568467</td>\n",
       "      <td>-0.407919</td>\n",
       "      <td>0.162465</td>\n",
       "      <td>-0.031325</td>\n",
       "      <td>-0.109318</td>\n",
       "      <td>0.008372</td>\n",
       "      <td>0.144568</td>\n",
       "      <td>-0.051314</td>\n",
       "    </tr>\n",
       "    <tr>\n",
       "      <th>290</th>\n",
       "      <td>12.870373</td>\n",
       "      <td>5.809944</td>\n",
       "      <td>-1.998578</td>\n",
       "      <td>1.503772</td>\n",
       "      <td>-0.928676</td>\n",
       "      <td>0.821343</td>\n",
       "      <td>-0.253278</td>\n",
       "      <td>-0.491064</td>\n",
       "      <td>0.517882</td>\n",
       "      <td>-0.200540</td>\n",
       "      <td>...</td>\n",
       "      <td>0.445415</td>\n",
       "      <td>-0.707119</td>\n",
       "      <td>0.766614</td>\n",
       "      <td>-0.544289</td>\n",
       "      <td>0.267774</td>\n",
       "      <td>-0.162763</td>\n",
       "      <td>-0.024651</td>\n",
       "      <td>-0.003581</td>\n",
       "      <td>0.150565</td>\n",
       "      <td>-0.061287</td>\n",
       "    </tr>\n",
       "  </tbody>\n",
       "</table>\n",
       "<p>291 rows × 31 columns</p>\n",
       "</div>"
      ],
      "text/plain": [
       "          cpps     slope      lpc1      lpc2      lpc3      lpc4      lpc5  \\\n",
       "0    12.870373  5.809944 -2.018505  1.287484 -0.342385  0.204282  0.070042   \n",
       "1    12.870373  5.809944 -2.090642  1.559807 -0.768561  0.495505  0.119454   \n",
       "2    12.870373  5.809944 -1.944814  1.138545 -0.237615  0.085187  0.304451   \n",
       "3    12.870373  5.809944 -2.009600  1.288071 -0.441554  0.448171 -0.186950   \n",
       "4    12.870373  5.809944 -1.952616  1.076465 -0.103091  0.104569  0.072813   \n",
       "..         ...       ...       ...       ...       ...       ...       ...   \n",
       "286  12.870373  5.809944 -2.039383  1.610307 -1.036775  0.843336 -0.237378   \n",
       "287  12.870373  5.809944 -1.885117  1.216039 -0.609866  0.528896  0.033812   \n",
       "288  12.870373  5.809944 -1.953808  1.412053 -0.931465  0.915859 -0.224278   \n",
       "289  12.870373  5.809944 -2.044373  1.632851 -1.055183  0.791184 -0.125834   \n",
       "290  12.870373  5.809944 -1.998578  1.503772 -0.928676  0.821343 -0.253278   \n",
       "\n",
       "         lpc6      lpc7      lpc8  ...     lpc20     lpc21     lpc22  \\\n",
       "0   -0.560863  0.582084 -0.371476  ...  0.143436 -0.303081  0.175278   \n",
       "1   -0.770119  0.573943  0.003828  ...  0.064526 -0.359166  0.405969   \n",
       "2   -0.716771  0.461564 -0.132180  ...  0.027800 -0.298297  0.295375   \n",
       "3   -0.382505  0.346811 -0.019045  ...  0.222365 -0.458981  0.514230   \n",
       "4   -0.601736  0.623885 -0.223608  ...  0.214921 -0.569523  0.505926   \n",
       "..        ...       ...       ...  ...       ...       ...       ...   \n",
       "286 -0.392924  0.334911 -0.124026  ...  0.258569 -0.567647  0.619932   \n",
       "287 -0.604165  0.296318  0.126494  ...  0.203869 -0.540296  0.574510   \n",
       "288 -0.649423  0.631124 -0.303664  ...  0.325785 -0.471540  0.468220   \n",
       "289 -0.440668  0.241167  0.164711  ...  0.275217 -0.524659  0.568467   \n",
       "290 -0.491064  0.517882 -0.200540  ...  0.445415 -0.707119  0.766614   \n",
       "\n",
       "        lpc23     lpc24     lpc25     lpc26     lpc27     lpc28     lpc29  \n",
       "0    0.022537 -0.098849  0.126725 -0.273139  0.020313  0.291590 -0.133779  \n",
       "1   -0.278716  0.226127 -0.209522 -0.015640 -0.078652  0.289518 -0.124298  \n",
       "2   -0.098302  0.056308 -0.140106 -0.041198 -0.026400  0.230078 -0.097375  \n",
       "3   -0.325514  0.120503 -0.042291 -0.131024 -0.001817  0.233777 -0.105209  \n",
       "4   -0.205866  0.051402 -0.008822 -0.217084  0.037135  0.297571 -0.150004  \n",
       "..        ...       ...       ...       ...       ...       ...       ...  \n",
       "286 -0.506831  0.392444 -0.310689  0.071172 -0.088670  0.211336 -0.077076  \n",
       "287 -0.295908  0.118191 -0.152239 -0.004371 -0.043495  0.192424 -0.070181  \n",
       "288 -0.173323 -0.097386  0.088832 -0.185228  0.149310  0.017455 -0.009086  \n",
       "289 -0.407919  0.162465 -0.031325 -0.109318  0.008372  0.144568 -0.051314  \n",
       "290 -0.544289  0.267774 -0.162763 -0.024651 -0.003581  0.150565 -0.061287  \n",
       "\n",
       "[291 rows x 31 columns]"
      ]
     },
     "execution_count": 14,
     "metadata": {},
     "output_type": "execute_result"
    }
   ],
   "source": [
    "df_sdl = pd.concat([df_sdl, pd.DataFrame(lpcs_sdl,columns=['lpc1','lpc2',\n",
    "'lpc3', 'lpc4','lpc5','lpc6','lpc7','lpc8','lpc9','lpc10','lpc11','lpc12','lpc13',\n",
    "'lpc14','lpc15','lpc16','lpc17','lpc18','lpc19','lpc20','lpc21','lpc22','lpc23',\n",
    "'lpc24','lpc25','lpc26','lpc27','lpc28','lpc29'])], axis=1)\n",
    "df_sdl"
   ]
  },
  {
   "cell_type": "code",
   "execution_count": 15,
   "metadata": {},
   "outputs": [
    {
     "data": {
      "text/html": [
       "<div>\n",
       "<style scoped>\n",
       "    .dataframe tbody tr th:only-of-type {\n",
       "        vertical-align: middle;\n",
       "    }\n",
       "\n",
       "    .dataframe tbody tr th {\n",
       "        vertical-align: top;\n",
       "    }\n",
       "\n",
       "    .dataframe thead th {\n",
       "        text-align: right;\n",
       "    }\n",
       "</style>\n",
       "<table border=\"1\" class=\"dataframe\">\n",
       "  <thead>\n",
       "    <tr style=\"text-align: right;\">\n",
       "      <th></th>\n",
       "      <th>cpps</th>\n",
       "      <th>slope</th>\n",
       "      <th>lpc1</th>\n",
       "      <th>lpc2</th>\n",
       "      <th>lpc3</th>\n",
       "      <th>lpc4</th>\n",
       "      <th>lpc5</th>\n",
       "      <th>lpc6</th>\n",
       "      <th>lpc7</th>\n",
       "      <th>lpc8</th>\n",
       "      <th>lpc9</th>\n",
       "      <th>lpc10</th>\n",
       "      <th>lpc11</th>\n",
       "      <th>lpc12</th>\n",
       "    </tr>\n",
       "  </thead>\n",
       "  <tbody>\n",
       "    <tr>\n",
       "      <th>0</th>\n",
       "      <td>12.870373</td>\n",
       "      <td>5.809944</td>\n",
       "      <td>-2.018505</td>\n",
       "      <td>1.287484</td>\n",
       "      <td>-0.342385</td>\n",
       "      <td>0.204282</td>\n",
       "      <td>0.070042</td>\n",
       "      <td>-0.560863</td>\n",
       "      <td>0.582084</td>\n",
       "      <td>-0.371476</td>\n",
       "      <td>0.895842</td>\n",
       "      <td>-1.042143</td>\n",
       "      <td>0.514437</td>\n",
       "      <td>-0.492192</td>\n",
       "    </tr>\n",
       "    <tr>\n",
       "      <th>1</th>\n",
       "      <td>12.870373</td>\n",
       "      <td>5.809944</td>\n",
       "      <td>-2.090642</td>\n",
       "      <td>1.559807</td>\n",
       "      <td>-0.768561</td>\n",
       "      <td>0.495505</td>\n",
       "      <td>0.119454</td>\n",
       "      <td>-0.770119</td>\n",
       "      <td>0.573943</td>\n",
       "      <td>0.003828</td>\n",
       "      <td>0.349858</td>\n",
       "      <td>-0.644220</td>\n",
       "      <td>0.459280</td>\n",
       "      <td>-0.812857</td>\n",
       "    </tr>\n",
       "    <tr>\n",
       "      <th>2</th>\n",
       "      <td>12.870373</td>\n",
       "      <td>5.809944</td>\n",
       "      <td>-1.944814</td>\n",
       "      <td>1.138545</td>\n",
       "      <td>-0.237615</td>\n",
       "      <td>0.085187</td>\n",
       "      <td>0.304451</td>\n",
       "      <td>-0.716771</td>\n",
       "      <td>0.461564</td>\n",
       "      <td>-0.132180</td>\n",
       "      <td>0.751635</td>\n",
       "      <td>-0.884279</td>\n",
       "      <td>0.244865</td>\n",
       "      <td>-0.299268</td>\n",
       "    </tr>\n",
       "    <tr>\n",
       "      <th>3</th>\n",
       "      <td>12.870373</td>\n",
       "      <td>5.809944</td>\n",
       "      <td>-2.009600</td>\n",
       "      <td>1.288071</td>\n",
       "      <td>-0.441554</td>\n",
       "      <td>0.448171</td>\n",
       "      <td>-0.186950</td>\n",
       "      <td>-0.382505</td>\n",
       "      <td>0.346811</td>\n",
       "      <td>-0.019045</td>\n",
       "      <td>0.646699</td>\n",
       "      <td>-1.073657</td>\n",
       "      <td>0.755939</td>\n",
       "      <td>-0.902332</td>\n",
       "    </tr>\n",
       "    <tr>\n",
       "      <th>4</th>\n",
       "      <td>12.870373</td>\n",
       "      <td>5.809944</td>\n",
       "      <td>-1.952616</td>\n",
       "      <td>1.076465</td>\n",
       "      <td>-0.103091</td>\n",
       "      <td>0.104569</td>\n",
       "      <td>0.072813</td>\n",
       "      <td>-0.601736</td>\n",
       "      <td>0.623885</td>\n",
       "      <td>-0.223608</td>\n",
       "      <td>0.610484</td>\n",
       "      <td>-0.896644</td>\n",
       "      <td>0.603164</td>\n",
       "      <td>-0.699603</td>\n",
       "    </tr>\n",
       "  </tbody>\n",
       "</table>\n",
       "</div>"
      ],
      "text/plain": [
       "        cpps     slope      lpc1      lpc2      lpc3      lpc4      lpc5  \\\n",
       "0  12.870373  5.809944 -2.018505  1.287484 -0.342385  0.204282  0.070042   \n",
       "1  12.870373  5.809944 -2.090642  1.559807 -0.768561  0.495505  0.119454   \n",
       "2  12.870373  5.809944 -1.944814  1.138545 -0.237615  0.085187  0.304451   \n",
       "3  12.870373  5.809944 -2.009600  1.288071 -0.441554  0.448171 -0.186950   \n",
       "4  12.870373  5.809944 -1.952616  1.076465 -0.103091  0.104569  0.072813   \n",
       "\n",
       "       lpc6      lpc7      lpc8      lpc9     lpc10     lpc11     lpc12  \n",
       "0 -0.560863  0.582084 -0.371476  0.895842 -1.042143  0.514437 -0.492192  \n",
       "1 -0.770119  0.573943  0.003828  0.349858 -0.644220  0.459280 -0.812857  \n",
       "2 -0.716771  0.461564 -0.132180  0.751635 -0.884279  0.244865 -0.299268  \n",
       "3 -0.382505  0.346811 -0.019045  0.646699 -1.073657  0.755939 -0.902332  \n",
       "4 -0.601736  0.623885 -0.223608  0.610484 -0.896644  0.603164 -0.699603  "
      ]
     },
     "execution_count": 15,
     "metadata": {},
     "output_type": "execute_result"
    }
   ],
   "source": [
    "numeric_feature_names_sdl = ['cpps', 'slope','lpc1',  'lpc2',\n",
    "                         'lpc3', 'lpc4', 'lpc5', 'lpc6',\n",
    "                         'lpc7', 'lpc8','lpc9', 'lpc10',\n",
    "                         'lpc11', 'lpc12']\n",
    "numeric_features_sdl = df_sdl[numeric_feature_names_sdl]\n",
    "numeric_features_sdl.head()"
   ]
  },
  {
   "cell_type": "code",
   "execution_count": 16,
   "metadata": {},
   "outputs": [
    {
     "data": {
      "text/plain": [
       "<tf.Tensor: shape=(291, 14), dtype=float64, numpy=\n",
       "array([[12.87037314,  5.80994399, -2.01850537, ..., -1.0421428 ,\n",
       "         0.51443708, -0.49219241],\n",
       "       [12.87037314,  5.80994399, -2.09064232, ..., -0.64421962,\n",
       "         0.45928025, -0.81285727],\n",
       "       [12.87037314,  5.80994399, -1.9448139 , ..., -0.88427873,\n",
       "         0.24486483, -0.29926835],\n",
       "       ...,\n",
       "       [12.87037314,  5.80994399, -1.95380796, ..., -1.16713177,\n",
       "         0.70813988, -0.83829229],\n",
       "       [12.87037314,  5.80994399, -2.04437272, ..., -0.49857185,\n",
       "         0.29927867, -0.60401209],\n",
       "       [12.87037314,  5.80994399, -1.99857796, ..., -1.09336053,\n",
       "         0.90469426, -1.19548555]])>"
      ]
     },
     "execution_count": 16,
     "metadata": {},
     "output_type": "execute_result"
    }
   ],
   "source": [
    "# convertendo features para TENSOR\n",
    "tf.convert_to_tensor(numeric_features_sdl)"
   ]
  },
  {
   "cell_type": "code",
   "execution_count": 17,
   "metadata": {},
   "outputs": [],
   "source": [
    "# Aplicando normalização das features (para equalizar grandezas)\n",
    "normalizer_sdl = tf.keras.layers.Normalization(axis=-1)\n",
    "normalizer_sdl.adapt(numeric_features_sdl)"
   ]
  },
  {
   "cell_type": "code",
   "execution_count": 18,
   "metadata": {},
   "outputs": [
    {
     "data": {
      "text/plain": [
       "<tf.Tensor: shape=(3, 14), dtype=float32, numpy=\n",
       "array([[-0.9265026 ,  0.        , -0.39143172, -0.19921911,  0.77502114,\n",
       "        -0.78355145, -0.06062435,  0.58909404,  0.08701133, -1.2542217 ,\n",
       "         1.4896903 , -0.8250831 , -0.09343917,  0.9133203 ],\n",
       "       [-0.9265026 ,  0.        , -1.3454375 ,  1.3167232 , -1.0107996 ,\n",
       "         0.42123738,  0.13409692, -0.21394183,  0.05412014,  0.38524964,\n",
       "        -1.0222762 ,  1.0974646 , -0.34942776, -0.55228436],\n",
       "       [-0.9265026 ,  0.        ,  0.58313376, -1.0283154 ,  1.2140455 ,\n",
       "        -1.2762485 ,  0.86313426, -0.00921628, -0.3999062 , -0.20888752,\n",
       "         0.826219  , -0.0623701 , -1.3445522 ,  1.7950834 ]],\n",
       "      dtype=float32)>"
      ]
     },
     "execution_count": 18,
     "metadata": {},
     "output_type": "execute_result"
    }
   ],
   "source": [
    "# verificando normalização\n",
    "normalizer_sdl(numeric_features_sdl.iloc[:3])"
   ]
  },
  {
   "cell_type": "code",
   "execution_count": 21,
   "metadata": {},
   "outputs": [],
   "source": [
    "caminho_modelo = r'C:\\Users\\vinic\\Documents\\IFPB\\Arquitetura\\proj-arquit\\modelo'"
   ]
  },
  {
   "cell_type": "code",
   "execution_count": 22,
   "metadata": {},
   "outputs": [
    {
     "data": {
      "text/plain": [
       "['project_model.h5']"
      ]
     },
     "execution_count": 22,
     "metadata": {},
     "output_type": "execute_result"
    }
   ],
   "source": [
    "# checando o diretório\n",
    "os.listdir(caminho_modelo)"
   ]
  },
  {
   "cell_type": "code",
   "execution_count": 23,
   "metadata": {},
   "outputs": [],
   "source": [
    "# Carregue o modelo\n",
    "modelo_carregado = tf.keras.models.load_model(caminho_modelo+'\\\\project_model.h5')"
   ]
  },
  {
   "cell_type": "code",
   "execution_count": 24,
   "metadata": {},
   "outputs": [
    {
     "name": "stdout",
     "output_type": "stream",
     "text": [
      "Model: \"sequential\"\n",
      "_________________________________________________________________\n",
      " Layer (type)                Output Shape              Param #   \n",
      "=================================================================\n",
      " dense (Dense)               (None, 10)                150       \n",
      "                                                                 \n",
      " dense_1 (Dense)             (None, 10)                110       \n",
      "                                                                 \n",
      " dense_2 (Dense)             (None, 5)                 55        \n",
      "                                                                 \n",
      " dense_3 (Dense)             (None, 1)                 6         \n",
      "                                                                 \n",
      "=================================================================\n",
      "Total params: 321\n",
      "Trainable params: 321\n",
      "Non-trainable params: 0\n",
      "_________________________________________________________________\n"
     ]
    }
   ],
   "source": [
    "modelo_carregado.summary()"
   ]
  },
  {
   "cell_type": "code",
   "execution_count": 25,
   "metadata": {},
   "outputs": [
    {
     "name": "stdout",
     "output_type": "stream",
     "text": [
      "10/10 [==============================] - 0s 2ms/step\n",
      "[[0]\n",
      " [0]\n",
      " [0]\n",
      " [0]\n",
      " [0]\n",
      " [0]\n",
      " [0]\n",
      " [0]\n",
      " [0]\n",
      " [0]\n",
      " [0]\n",
      " [0]\n",
      " [0]\n",
      " [0]\n",
      " [0]\n",
      " [0]\n",
      " [0]\n",
      " [0]\n",
      " [0]\n",
      " [0]\n",
      " [0]\n",
      " [0]\n",
      " [0]\n",
      " [0]\n",
      " [0]\n",
      " [0]\n",
      " [0]\n",
      " [0]\n",
      " [0]\n",
      " [0]\n",
      " [0]\n",
      " [0]\n",
      " [0]\n",
      " [0]\n",
      " [0]\n",
      " [0]\n",
      " [0]\n",
      " [0]\n",
      " [0]\n",
      " [0]\n",
      " [0]\n",
      " [0]\n",
      " [0]\n",
      " [0]\n",
      " [0]\n",
      " [0]\n",
      " [0]\n",
      " [0]\n",
      " [0]\n",
      " [0]\n",
      " [0]\n",
      " [0]\n",
      " [0]\n",
      " [0]\n",
      " [0]\n",
      " [0]\n",
      " [0]\n",
      " [0]\n",
      " [0]\n",
      " [0]\n",
      " [0]\n",
      " [0]\n",
      " [0]\n",
      " [0]\n",
      " [0]\n",
      " [0]\n",
      " [0]\n",
      " [0]\n",
      " [0]\n",
      " [0]\n",
      " [0]\n",
      " [0]\n",
      " [0]\n",
      " [0]\n",
      " [0]\n",
      " [0]\n",
      " [0]\n",
      " [0]\n",
      " [0]\n",
      " [0]\n",
      " [0]\n",
      " [0]\n",
      " [0]\n",
      " [0]\n",
      " [0]\n",
      " [0]\n",
      " [0]\n",
      " [0]\n",
      " [0]\n",
      " [0]\n",
      " [0]\n",
      " [0]\n",
      " [0]\n",
      " [0]\n",
      " [0]\n",
      " [0]\n",
      " [0]\n",
      " [0]\n",
      " [0]\n",
      " [0]\n",
      " [0]\n",
      " [0]\n",
      " [0]\n",
      " [0]\n",
      " [0]\n",
      " [0]\n",
      " [0]\n",
      " [0]\n",
      " [0]\n",
      " [0]\n",
      " [0]\n",
      " [0]\n",
      " [0]\n",
      " [0]\n",
      " [0]\n",
      " [0]\n",
      " [0]\n",
      " [0]\n",
      " [0]\n",
      " [0]\n",
      " [0]\n",
      " [0]\n",
      " [0]\n",
      " [0]\n",
      " [0]\n",
      " [0]\n",
      " [0]\n",
      " [0]\n",
      " [0]\n",
      " [0]\n",
      " [0]\n",
      " [0]\n",
      " [0]\n",
      " [0]\n",
      " [0]\n",
      " [0]\n",
      " [0]\n",
      " [0]\n",
      " [0]\n",
      " [0]\n",
      " [0]\n",
      " [0]\n",
      " [0]\n",
      " [0]\n",
      " [0]\n",
      " [0]\n",
      " [0]\n",
      " [0]\n",
      " [0]\n",
      " [0]\n",
      " [0]\n",
      " [0]\n",
      " [0]\n",
      " [0]\n",
      " [0]\n",
      " [0]\n",
      " [0]\n",
      " [0]\n",
      " [0]\n",
      " [0]\n",
      " [0]\n",
      " [0]\n",
      " [0]\n",
      " [0]\n",
      " [0]\n",
      " [0]\n",
      " [0]\n",
      " [0]\n",
      " [0]\n",
      " [0]\n",
      " [0]\n",
      " [0]\n",
      " [0]\n",
      " [0]\n",
      " [0]\n",
      " [0]\n",
      " [0]\n",
      " [0]\n",
      " [0]\n",
      " [0]\n",
      " [0]\n",
      " [0]\n",
      " [0]\n",
      " [0]\n",
      " [0]\n",
      " [0]\n",
      " [0]\n",
      " [0]\n",
      " [0]\n",
      " [0]\n",
      " [0]\n",
      " [0]\n",
      " [0]\n",
      " [0]\n",
      " [0]\n",
      " [0]\n",
      " [0]\n",
      " [0]\n",
      " [0]\n",
      " [0]\n",
      " [0]\n",
      " [0]\n",
      " [0]\n",
      " [0]\n",
      " [0]\n",
      " [0]\n",
      " [0]\n",
      " [0]\n",
      " [0]\n",
      " [0]\n",
      " [0]\n",
      " [0]\n",
      " [0]\n",
      " [0]\n",
      " [0]\n",
      " [0]\n",
      " [0]\n",
      " [0]\n",
      " [0]\n",
      " [0]\n",
      " [0]\n",
      " [0]\n",
      " [0]\n",
      " [0]\n",
      " [0]\n",
      " [0]\n",
      " [0]\n",
      " [0]\n",
      " [0]\n",
      " [0]\n",
      " [0]\n",
      " [0]\n",
      " [0]\n",
      " [0]\n",
      " [0]\n",
      " [0]\n",
      " [0]\n",
      " [0]\n",
      " [0]\n",
      " [0]\n",
      " [0]\n",
      " [0]\n",
      " [0]\n",
      " [0]\n",
      " [0]\n",
      " [0]\n",
      " [0]\n",
      " [0]\n",
      " [0]\n",
      " [0]\n",
      " [0]\n",
      " [0]\n",
      " [0]\n",
      " [0]\n",
      " [0]\n",
      " [0]\n",
      " [0]\n",
      " [0]\n",
      " [0]\n",
      " [0]\n",
      " [0]\n",
      " [0]\n",
      " [0]\n",
      " [0]\n",
      " [0]\n",
      " [0]\n",
      " [0]\n",
      " [0]\n",
      " [0]\n",
      " [0]\n",
      " [0]\n",
      " [0]\n",
      " [0]\n",
      " [0]\n",
      " [0]\n",
      " [0]\n",
      " [0]\n",
      " [0]\n",
      " [0]\n",
      " [0]\n",
      " [0]\n",
      " [0]\n",
      " [0]\n",
      " [0]\n",
      " [0]\n",
      " [0]\n",
      " [0]\n",
      " [0]\n",
      " [0]\n",
      " [0]\n",
      " [0]]\n",
      "291\n",
      "291\n"
     ]
    }
   ],
   "source": [
    "# Testando como seria a PREDIÇÃO DA CLASSE\n",
    "predictions = modelo_carregado.predict(numeric_features_sdl)\n",
    "predicted_classes = (predictions > 0.5).astype(int)\n",
    "print(predicted_classes)\n",
    "\n",
    "print(len(predicted_classes == 1))\n",
    "print(len(predicted_classes == 0))"
   ]
  },
  {
   "cell_type": "code",
   "execution_count": 31,
   "metadata": {},
   "outputs": [
    {
     "data": {
      "text/plain": [
       "array([0, 0, 0, 0, 0, 0, 0, 0, 0, 0, 0, 0, 0, 0, 0, 0, 0, 0, 0, 0, 0, 0,\n",
       "       0, 0, 0, 0, 0, 0, 0, 0, 0, 0, 0, 0, 0, 0, 0, 0, 0, 0, 0, 0, 0, 0,\n",
       "       0, 0, 0, 0, 0, 0, 0, 0, 0, 0, 0, 0, 0, 0, 0, 0, 0, 0, 0, 0, 0, 0,\n",
       "       0, 0, 0, 0, 0, 0, 0, 0, 0, 0, 0, 0, 0, 0, 0, 0, 0, 0, 0, 0, 0, 0,\n",
       "       0, 0, 0, 0, 0, 0, 0, 0, 0, 0, 0, 0, 0, 0, 0, 0, 0, 0, 0, 0, 0, 0,\n",
       "       0, 0, 0, 0, 0, 0, 0, 0, 0, 0, 0, 0, 0, 0, 0, 0, 0, 0, 0, 0, 0, 0,\n",
       "       0, 0, 0, 0, 0, 0, 0, 0, 0, 0, 0, 0, 0, 0, 0, 0, 0, 0, 0, 0, 0, 0,\n",
       "       0, 0, 0, 0, 0, 0, 0, 0, 0, 0, 0, 0, 0, 0, 0, 0, 0, 0, 0, 0, 0, 0,\n",
       "       0, 0, 0, 0, 0, 0, 0, 0, 0, 0, 0, 0, 0, 0, 0, 0, 0, 0, 0, 0, 0, 0,\n",
       "       0, 0, 0, 0, 0, 0, 0, 0, 0, 0, 0, 0, 0, 0, 0, 0, 0, 0, 0, 0, 0, 0,\n",
       "       0, 0, 0, 0, 0, 0, 0, 0, 0, 0, 0, 0, 0, 0, 0, 0, 0, 0, 0, 0, 0, 0,\n",
       "       0, 0, 0, 0, 0, 0, 0, 0, 0, 0, 0, 0, 0, 0, 0, 0, 0, 0, 0, 0, 0, 0,\n",
       "       0, 0, 0, 0, 0, 0, 0, 0, 0, 0, 0, 0, 0, 0, 0, 0, 0, 0, 0, 0, 0, 0,\n",
       "       0, 0, 0, 0, 0])"
      ]
     },
     "execution_count": 31,
     "metadata": {},
     "output_type": "execute_result"
    }
   ],
   "source": [
    "pred_vec = np.reshape(predicted_classes, len(predicted_classes))\n",
    "pred_vec "
   ]
  },
  {
   "cell_type": "code",
   "execution_count": 32,
   "metadata": {},
   "outputs": [
    {
     "data": {
      "text/plain": [
       "array([291], dtype=int64)"
      ]
     },
     "execution_count": 32,
     "metadata": {},
     "output_type": "execute_result"
    }
   ],
   "source": [
    "contagem = np.bincount(pred_vec)\n",
    "contagem"
   ]
  },
  {
   "cell_type": "code",
   "execution_count": 35,
   "metadata": {},
   "outputs": [
    {
     "data": {
      "text/plain": [
       "(1,)"
      ]
     },
     "execution_count": 35,
     "metadata": {},
     "output_type": "execute_result"
    }
   ],
   "source": [
    "contagem.shape"
   ]
  },
  {
   "cell_type": "code",
   "execution_count": 36,
   "metadata": {},
   "outputs": [],
   "source": [
    "def get_prob(predictions_vector):\n",
    "  '''\n",
    "  Esta função pega as predições e retorna a probabilidade\n",
    "  de o paciente ter uma condição patológica\n",
    "  '''\n",
    "  pred_vec = np.reshape(predictions_vector, len(predictions_vector))\n",
    "  contagem = np.bincount(pred_vec)\n",
    "\n",
    "  if len(contagem.shape) > 1:\n",
    "    prob_sdl = ( contagem[0] / len(pred_vec)) * 100\n",
    "    prob_ptl = ( contagem[1] / len(pred_vec)) * 100\n",
    "  elif len(contagem.shape) ==1:\n",
    "    if pred_vec[0] == 0:\n",
    "      prob_sdl = 100\n",
    "      prob_ptl = 0\n",
    "    else:\n",
    "      prob_sdl = 0\n",
    "      prob_ptl = 100\n",
    "\n",
    "  else:\n",
    "    pass\n",
    "\n",
    "  \n",
    "\n",
    "  return prob_sdl , prob_ptl\n"
   ]
  },
  {
   "cell_type": "code",
   "execution_count": 37,
   "metadata": {},
   "outputs": [
    {
     "name": "stdout",
     "output_type": "stream",
     "text": [
      "Probabilidade de ter patologia: 0.00 %\n",
      "Probabilidade de ter saúde: 100.00 %\n"
     ]
    }
   ],
   "source": [
    "sdl_p , ptl_p = get_prob(predicted_classes)\n",
    "print(f\"Probabilidade de ter patologia: {ptl_p:.2f} %\")\n",
    "print(f\"Probabilidade de ter saúde: {sdl_p:.2f} %\")"
   ]
  },
  {
   "cell_type": "code",
   "execution_count": 46,
   "metadata": {},
   "outputs": [],
   "source": [
    "#path_sinal = r'D:\\Documentos_HDD\\013_postdocIFPB\\Engenharia Elétrica-vozes\\Fernando\\fabav2.wav'\n",
    "path_sinal = r'C:\\Users\\vinic\\Documents\\datasets\\sinais_renomeados_kay\\Normal\\normal19.wav'\n"
   ]
  },
  {
   "cell_type": "code",
   "execution_count": 51,
   "metadata": {},
   "outputs": [
    {
     "data": {
      "text/plain": [
       "(1, 75000)"
      ]
     },
     "execution_count": 51,
     "metadata": {},
     "output_type": "execute_result"
    }
   ],
   "source": [
    "import parselmouth\n",
    "from scipy.io.wavfile import read\n",
    "import numpy as np\n",
    "from audio_format import pcm2float\n",
    "from scipy.io import wavfile\n",
    "\n",
    "rate, signal = wavfile.read(path_sinal)\n",
    "# sndG é o sinal convertido para float32\n",
    "sndG = pcm2float(signal)\n",
    "# sndPraat é o float32 no formato da biblioteca do Praat\n",
    "sndPraat = parselmouth.Sound(sndG)\n",
    "np.shape(sndPraat)"
   ]
  },
  {
   "cell_type": "code",
   "execution_count": 48,
   "metadata": {},
   "outputs": [
    {
     "data": {
      "text/plain": [
       "2"
      ]
     },
     "execution_count": 48,
     "metadata": {},
     "output_type": "execute_result"
    }
   ],
   "source": [
    "len(np.shape(sndPraat))"
   ]
  },
  {
   "cell_type": "code",
   "execution_count": 49,
   "metadata": {},
   "outputs": [
    {
     "data": {
      "text/plain": [
       "75000"
      ]
     },
     "execution_count": 49,
     "metadata": {},
     "output_type": "execute_result"
    }
   ],
   "source": [
    "if len(np.shape(sndPraat)) > 1:\n",
    "    if np.shape(sndPraat)[0] > np.shape(sndPraat)[1]:\n",
    "        sndPraat = np.mean(sndPraat, axis=1)\n",
    "    else:\n",
    "        sndPraat = np.mean(sndPraat, axis=0)\n",
    "\n",
    "len(sndPraat)"
   ]
  },
  {
   "cell_type": "code",
   "execution_count": 52,
   "metadata": {},
   "outputs": [
    {
     "data": {
      "text/plain": [
       "1"
      ]
     },
     "execution_count": 52,
     "metadata": {},
     "output_type": "execute_result"
    }
   ],
   "source": [
    "if len(np.shape(sndPraat)) > 1:\n",
    "    sndPraat = np.mean(sndPraat, axis=1)\n",
    "\n",
    "len(sndPraat)"
   ]
  }
 ],
 "metadata": {
  "kernelspec": {
   "display_name": "base",
   "language": "python",
   "name": "python3"
  },
  "language_info": {
   "codemirror_mode": {
    "name": "ipython",
    "version": 3
   },
   "file_extension": ".py",
   "mimetype": "text/x-python",
   "name": "python",
   "nbconvert_exporter": "python",
   "pygments_lexer": "ipython3",
   "version": "3.10.11"
  },
  "orig_nbformat": 4
 },
 "nbformat": 4,
 "nbformat_minor": 2
}
