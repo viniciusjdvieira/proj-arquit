{
 "cells": [
  {
   "attachments": {},
   "cell_type": "markdown",
   "metadata": {},
   "source": [
    "## Testing features"
   ]
  },
  {
   "cell_type": "code",
   "execution_count": 1,
   "metadata": {},
   "outputs": [],
   "source": [
    "import numpy as np\n",
    "import pandas as pd\n",
    "import matplotlib.pyplot as plt\n",
    "import scipy\n",
    "import parselmouth\n",
    "import soundfile as sf\n",
    "import librosa\n",
    "import os\n",
    "import glob\n",
    "import re"
   ]
  },
  {
   "cell_type": "code",
   "execution_count": 2,
   "metadata": {},
   "outputs": [
    {
     "data": {
      "text/html": [
       "<div>\n",
       "<style scoped>\n",
       "    .dataframe tbody tr th:only-of-type {\n",
       "        vertical-align: middle;\n",
       "    }\n",
       "\n",
       "    .dataframe tbody tr th {\n",
       "        vertical-align: top;\n",
       "    }\n",
       "\n",
       "    .dataframe thead th {\n",
       "        text-align: right;\n",
       "    }\n",
       "</style>\n",
       "<table border=\"1\" class=\"dataframe\">\n",
       "  <thead>\n",
       "    <tr style=\"text-align: right;\">\n",
       "      <th></th>\n",
       "      <th>Unnamed: 0</th>\n",
       "      <th>caminho</th>\n",
       "      <th>arquivo_wav</th>\n",
       "      <th>arquivo_sem_wav</th>\n",
       "      <th>classe</th>\n",
       "      <th>index_na_classe</th>\n",
       "    </tr>\n",
       "  </thead>\n",
       "  <tbody>\n",
       "    <tr>\n",
       "      <th>0</th>\n",
       "      <td>0</td>\n",
       "      <td>C:\\Users\\vinic\\Documents\\datasets\\sinais_renom...</td>\n",
       "      <td>edema1.wav</td>\n",
       "      <td>edema1</td>\n",
       "      <td>edema</td>\n",
       "      <td>1</td>\n",
       "    </tr>\n",
       "    <tr>\n",
       "      <th>1</th>\n",
       "      <td>1</td>\n",
       "      <td>C:\\Users\\vinic\\Documents\\datasets\\sinais_renom...</td>\n",
       "      <td>edema10.wav</td>\n",
       "      <td>edema10</td>\n",
       "      <td>edema</td>\n",
       "      <td>10</td>\n",
       "    </tr>\n",
       "    <tr>\n",
       "      <th>2</th>\n",
       "      <td>2</td>\n",
       "      <td>C:\\Users\\vinic\\Documents\\datasets\\sinais_renom...</td>\n",
       "      <td>edema11.wav</td>\n",
       "      <td>edema11</td>\n",
       "      <td>edema</td>\n",
       "      <td>11</td>\n",
       "    </tr>\n",
       "    <tr>\n",
       "      <th>3</th>\n",
       "      <td>3</td>\n",
       "      <td>C:\\Users\\vinic\\Documents\\datasets\\sinais_renom...</td>\n",
       "      <td>edema12.wav</td>\n",
       "      <td>edema12</td>\n",
       "      <td>edema</td>\n",
       "      <td>12</td>\n",
       "    </tr>\n",
       "    <tr>\n",
       "      <th>4</th>\n",
       "      <td>4</td>\n",
       "      <td>C:\\Users\\vinic\\Documents\\datasets\\sinais_renom...</td>\n",
       "      <td>edema13.wav</td>\n",
       "      <td>edema13</td>\n",
       "      <td>edema</td>\n",
       "      <td>13</td>\n",
       "    </tr>\n",
       "    <tr>\n",
       "      <th>...</th>\n",
       "      <td>...</td>\n",
       "      <td>...</td>\n",
       "      <td>...</td>\n",
       "      <td>...</td>\n",
       "      <td>...</td>\n",
       "      <td>...</td>\n",
       "    </tr>\n",
       "    <tr>\n",
       "      <th>162</th>\n",
       "      <td>162</td>\n",
       "      <td>C:\\Users\\vinic\\Documents\\datasets\\sinais_renom...</td>\n",
       "      <td>paralisia52.wav</td>\n",
       "      <td>paralisia52</td>\n",
       "      <td>paralisia</td>\n",
       "      <td>52</td>\n",
       "    </tr>\n",
       "    <tr>\n",
       "      <th>163</th>\n",
       "      <td>163</td>\n",
       "      <td>C:\\Users\\vinic\\Documents\\datasets\\sinais_renom...</td>\n",
       "      <td>paralisia6.wav</td>\n",
       "      <td>paralisia6</td>\n",
       "      <td>paralisia</td>\n",
       "      <td>6</td>\n",
       "    </tr>\n",
       "    <tr>\n",
       "      <th>164</th>\n",
       "      <td>164</td>\n",
       "      <td>C:\\Users\\vinic\\Documents\\datasets\\sinais_renom...</td>\n",
       "      <td>paralisia7.wav</td>\n",
       "      <td>paralisia7</td>\n",
       "      <td>paralisia</td>\n",
       "      <td>7</td>\n",
       "    </tr>\n",
       "    <tr>\n",
       "      <th>165</th>\n",
       "      <td>165</td>\n",
       "      <td>C:\\Users\\vinic\\Documents\\datasets\\sinais_renom...</td>\n",
       "      <td>paralisia8.wav</td>\n",
       "      <td>paralisia8</td>\n",
       "      <td>paralisia</td>\n",
       "      <td>8</td>\n",
       "    </tr>\n",
       "    <tr>\n",
       "      <th>166</th>\n",
       "      <td>166</td>\n",
       "      <td>C:\\Users\\vinic\\Documents\\datasets\\sinais_renom...</td>\n",
       "      <td>paralisia9.wav</td>\n",
       "      <td>paralisia9</td>\n",
       "      <td>paralisia</td>\n",
       "      <td>9</td>\n",
       "    </tr>\n",
       "  </tbody>\n",
       "</table>\n",
       "<p>167 rows × 6 columns</p>\n",
       "</div>"
      ],
      "text/plain": [
       "     Unnamed: 0                                            caminho  \\\n",
       "0             0  C:\\Users\\vinic\\Documents\\datasets\\sinais_renom...   \n",
       "1             1  C:\\Users\\vinic\\Documents\\datasets\\sinais_renom...   \n",
       "2             2  C:\\Users\\vinic\\Documents\\datasets\\sinais_renom...   \n",
       "3             3  C:\\Users\\vinic\\Documents\\datasets\\sinais_renom...   \n",
       "4             4  C:\\Users\\vinic\\Documents\\datasets\\sinais_renom...   \n",
       "..          ...                                                ...   \n",
       "162         162  C:\\Users\\vinic\\Documents\\datasets\\sinais_renom...   \n",
       "163         163  C:\\Users\\vinic\\Documents\\datasets\\sinais_renom...   \n",
       "164         164  C:\\Users\\vinic\\Documents\\datasets\\sinais_renom...   \n",
       "165         165  C:\\Users\\vinic\\Documents\\datasets\\sinais_renom...   \n",
       "166         166  C:\\Users\\vinic\\Documents\\datasets\\sinais_renom...   \n",
       "\n",
       "         arquivo_wav arquivo_sem_wav     classe  index_na_classe  \n",
       "0         edema1.wav          edema1      edema                1  \n",
       "1        edema10.wav         edema10      edema               10  \n",
       "2        edema11.wav         edema11      edema               11  \n",
       "3        edema12.wav         edema12      edema               12  \n",
       "4        edema13.wav         edema13      edema               13  \n",
       "..               ...             ...        ...              ...  \n",
       "162  paralisia52.wav     paralisia52  paralisia               52  \n",
       "163   paralisia6.wav      paralisia6  paralisia                6  \n",
       "164   paralisia7.wav      paralisia7  paralisia                7  \n",
       "165   paralisia8.wav      paralisia8  paralisia                8  \n",
       "166   paralisia9.wav      paralisia9  paralisia                9  \n",
       "\n",
       "[167 rows x 6 columns]"
      ]
     },
     "execution_count": 2,
     "metadata": {},
     "output_type": "execute_result"
    }
   ],
   "source": [
    "df = pd.read_csv(\"..\\\\dataset_key_v1.csv\")\n",
    "df"
   ]
  },
  {
   "cell_type": "code",
   "execution_count": 3,
   "metadata": {},
   "outputs": [
    {
     "data": {
      "text/plain": [
       "'C:\\\\Users\\\\vinic\\\\Documents\\\\datasets\\\\sinais_renomeados_kay\\\\Edema\\\\edema1.wav'"
      ]
     },
     "execution_count": 3,
     "metadata": {},
     "output_type": "execute_result"
    }
   ],
   "source": [
    "sinal = df[\"caminho\"][0]\n",
    "sinal"
   ]
  },
  {
   "cell_type": "code",
   "execution_count": 5,
   "metadata": {},
   "outputs": [
    {
     "name": "stdout",
     "output_type": "stream",
     "text": [
      "25000\n"
     ]
    }
   ],
   "source": [
    "data, samplerate = sf.read(sinal)\n",
    "print(samplerate)"
   ]
  },
  {
   "cell_type": "code",
   "execution_count": 6,
   "metadata": {},
   "outputs": [
    {
     "data": {
      "image/png": "[encoded data removed]",
      "text/plain": [
       "<Figure size 432x288 with 1 Axes>"
      ]
     },
     "metadata": {
      "needs_background": "light"
     },
     "output_type": "display_data"
    }
   ],
   "source": [
    "plt.plot(data)\n",
    "plt.show()"
   ]
  },
  {
   "cell_type": "code",
   "execution_count": 8,
   "metadata": {},
   "outputs": [
    {
     "data": {
      "text/plain": [
       "array([ 1.00000000e+00, -3.71161369e-01, -6.98330773e-01, -1.83629875e-01,\n",
       "        2.99101067e-01, -2.51778318e-01,  2.48225029e-02,  1.67258203e-01,\n",
       "        7.63119109e-02, -1.22649106e-03,  9.50921920e-02,  6.66172822e-02,\n",
       "       -5.66810578e-02, -2.09298483e-01, -8.06922651e-02,  7.98182716e-02,\n",
       "       -5.69610994e-02, -5.49184570e-02,  1.44634358e-01,  1.35613834e-01,\n",
       "       -1.46334941e-01, -3.28135785e-04,  2.47555297e-01, -4.73114650e-02,\n",
       "       -2.09996648e-01, -1.55580014e-01,  8.09362243e-02,  2.23984870e-01,\n",
       "        6.26758069e-02, -1.42931718e-01])"
      ]
     },
     "execution_count": 8,
     "metadata": {},
     "output_type": "execute_result"
    }
   ],
   "source": [
    "librosa.lpc(data, order = 29)"
   ]
  },
  {
   "cell_type": "code",
   "execution_count": 17,
   "metadata": {},
   "outputs": [
    {
     "name": "stderr",
     "output_type": "stream",
     "text": [
      "C:\\Users\\vinic\\AppData\\Local\\Temp\\ipykernel_11876\\1972446332.py:1: FutureWarning: Pass y=[ 6.19323730e-01  6.04064941e-01  6.50512695e-01 ...  9.46044922e-03\n",
      " -4.88281250e-04 -4.54711914e-03] as keyword args. From version 0.10 passing these as positional arguments will result in an error\n",
      "  np.mean(librosa.feature.mfcc(data, n_mfcc=12), axis=1, keepdims=True)\n"
     ]
    },
    {
     "data": {
      "text/plain": [
       "array([[-167.37641916],\n",
       "       [  88.41316076],\n",
       "       [  28.91832343],\n",
       "       [ -18.04167239],\n",
       "       [  21.10621135],\n",
       "       [ -20.34889884],\n",
       "       [  39.9562204 ],\n",
       "       [  -1.0111783 ],\n",
       "       [ -22.39976001],\n",
       "       [   6.12618956],\n",
       "       [  12.0544034 ],\n",
       "       [  20.97260189]])"
      ]
     },
     "execution_count": 17,
     "metadata": {},
     "output_type": "execute_result"
    }
   ],
   "source": [
    "np.mean(librosa.feature.mfcc(data, n_mfcc=12), axis=1, keepdims=True)"
   ]
  }
 ],
 "metadata": {
  "kernelspec": {
   "display_name": "base",
   "language": "python",
   "name": "python3"
  },
  "language_info": {
   "codemirror_mode": {
    "name": "ipython",
    "version": 3
   },
   "file_extension": ".py",
   "mimetype": "text/x-python",
   "name": "python",
   "nbconvert_exporter": "python",
   "pygments_lexer": "ipython3",
   "version": "3.9.12"
  },
  "orig_nbformat": 4
 },
 "nbformat": 4,
 "nbformat_minor": 2
}
