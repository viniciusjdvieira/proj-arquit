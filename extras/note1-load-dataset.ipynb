{
 "cells": [
  {
   "cell_type": "code",
   "execution_count": 1,
   "metadata": {},
   "outputs": [],
   "source": [
    "import numpy as np\n",
    "import pandas as pd\n",
    "import matplotlib.pyplot as plt\n",
    "import scipy\n",
    "import parselmouth\n",
    "import soundfile\n",
    "import librosa\n",
    "import os\n",
    "import glob\n",
    "import re"
   ]
  },
  {
   "cell_type": "code",
   "execution_count": 2,
   "metadata": {},
   "outputs": [],
   "source": [
    "df = pd.DataFrame()"
   ]
  },
  {
   "cell_type": "code",
   "execution_count": 3,
   "metadata": {},
   "outputs": [
    {
     "data": {
      "text/plain": [
       "['Edema', 'Normal', 'Nódulo', 'Paralisia']"
      ]
     },
     "execution_count": 3,
     "metadata": {},
     "output_type": "execute_result"
    }
   ],
   "source": [
    "path_data = \"C:\\\\Users\\\\vinic\\\\Documents\\\\datasets\\\\sinais_renomeados_kay\"\n",
    "conteudo = os.listdir(path_data)\n",
    "conteudo"
   ]
  },
  {
   "cell_type": "code",
   "execution_count": 6,
   "metadata": {},
   "outputs": [
    {
     "name": "stdout",
     "output_type": "stream",
     "text": [
      "Edema\n",
      "Normal\n",
      "Nódulo\n",
      "Paralisia\n"
     ]
    }
   ],
   "source": [
    "for item in conteudo:\n",
    "    # Verifique se é um diretório usando a função os.path.isdir()\n",
    "    if os.path.isdir(os.path.join(path_data, item)):\n",
    "        print(item)  # Imprime o nome da pasta"
   ]
  },
  {
   "cell_type": "code",
   "execution_count": 10,
   "metadata": {},
   "outputs": [
    {
     "data": {
      "text/plain": [
       "'C:\\\\Users\\\\vinic\\\\Documents\\\\datasets\\\\sinais_renomeados_kay\\\\Edema'"
      ]
     },
     "execution_count": 10,
     "metadata": {},
     "output_type": "execute_result"
    }
   ],
   "source": [
    "path_data+\"\\\\\"+conteudo[0]"
   ]
  },
  {
   "cell_type": "code",
   "execution_count": 18,
   "metadata": {},
   "outputs": [
    {
     "data": {
      "text/plain": [
       "list"
      ]
     },
     "execution_count": 18,
     "metadata": {},
     "output_type": "execute_result"
    }
   ],
   "source": [
    "type(conteudo)"
   ]
  },
  {
   "cell_type": "code",
   "execution_count": 20,
   "metadata": {},
   "outputs": [],
   "source": [
    "files = os.listdir(path_data+\"\\\\\"+conteudo[0])"
   ]
  },
  {
   "cell_type": "code",
   "execution_count": 23,
   "metadata": {},
   "outputs": [],
   "source": [
    "for item in range(len(conteudo)):\n",
    "    files = os.listdir(path_data+\"\\\\\"+conteudo[item])\n"
   ]
  },
  {
   "cell_type": "code",
   "execution_count": 41,
   "metadata": {},
   "outputs": [
    {
     "name": "stdout",
     "output_type": "stream",
     "text": [
      "168\n",
      "167\n"
     ]
    }
   ],
   "source": [
    "lista_sinais = []\n",
    "all_path = []\n",
    "for item in range(len(conteudo)):\n",
    "    files = os.listdir(path_data+\"\\\\\"+conteudo[item])\n",
    "    lista_sinais += files\n",
    "    files_path = glob.glob(path_data+'\\\\'+conteudo[item]+'\\\\'+'*.wav')\n",
    "    all_path += files_path\n",
    "\n",
    "print(len(lista_sinais))\n",
    "print(len(all_path))"
   ]
  },
  {
   "cell_type": "code",
   "execution_count": 4,
   "metadata": {},
   "outputs": [
    {
     "data": {
      "text/html": [
       "<div>\n",
       "<style scoped>\n",
       "    .dataframe tbody tr th:only-of-type {\n",
       "        vertical-align: middle;\n",
       "    }\n",
       "\n",
       "    .dataframe tbody tr th {\n",
       "        vertical-align: top;\n",
       "    }\n",
       "\n",
       "    .dataframe thead th {\n",
       "        text-align: right;\n",
       "    }\n",
       "</style>\n",
       "<table border=\"1\" class=\"dataframe\">\n",
       "  <thead>\n",
       "    <tr style=\"text-align: right;\">\n",
       "      <th></th>\n",
       "      <th>caminho</th>\n",
       "    </tr>\n",
       "  </thead>\n",
       "  <tbody>\n",
       "    <tr>\n",
       "      <th>0</th>\n",
       "      <td>C:\\Users\\vinic\\Documents\\datasets\\sinais_renom...</td>\n",
       "    </tr>\n",
       "    <tr>\n",
       "      <th>1</th>\n",
       "      <td>C:\\Users\\vinic\\Documents\\datasets\\sinais_renom...</td>\n",
       "    </tr>\n",
       "    <tr>\n",
       "      <th>2</th>\n",
       "      <td>C:\\Users\\vinic\\Documents\\datasets\\sinais_renom...</td>\n",
       "    </tr>\n",
       "    <tr>\n",
       "      <th>3</th>\n",
       "      <td>C:\\Users\\vinic\\Documents\\datasets\\sinais_renom...</td>\n",
       "    </tr>\n",
       "    <tr>\n",
       "      <th>4</th>\n",
       "      <td>C:\\Users\\vinic\\Documents\\datasets\\sinais_renom...</td>\n",
       "    </tr>\n",
       "    <tr>\n",
       "      <th>...</th>\n",
       "      <td>...</td>\n",
       "    </tr>\n",
       "    <tr>\n",
       "      <th>162</th>\n",
       "      <td>C:\\Users\\vinic\\Documents\\datasets\\sinais_renom...</td>\n",
       "    </tr>\n",
       "    <tr>\n",
       "      <th>163</th>\n",
       "      <td>C:\\Users\\vinic\\Documents\\datasets\\sinais_renom...</td>\n",
       "    </tr>\n",
       "    <tr>\n",
       "      <th>164</th>\n",
       "      <td>C:\\Users\\vinic\\Documents\\datasets\\sinais_renom...</td>\n",
       "    </tr>\n",
       "    <tr>\n",
       "      <th>165</th>\n",
       "      <td>C:\\Users\\vinic\\Documents\\datasets\\sinais_renom...</td>\n",
       "    </tr>\n",
       "    <tr>\n",
       "      <th>166</th>\n",
       "      <td>C:\\Users\\vinic\\Documents\\datasets\\sinais_renom...</td>\n",
       "    </tr>\n",
       "  </tbody>\n",
       "</table>\n",
       "<p>167 rows × 1 columns</p>\n",
       "</div>"
      ],
      "text/plain": [
       "                                               caminho\n",
       "0    C:\\Users\\vinic\\Documents\\datasets\\sinais_renom...\n",
       "1    C:\\Users\\vinic\\Documents\\datasets\\sinais_renom...\n",
       "2    C:\\Users\\vinic\\Documents\\datasets\\sinais_renom...\n",
       "3    C:\\Users\\vinic\\Documents\\datasets\\sinais_renom...\n",
       "4    C:\\Users\\vinic\\Documents\\datasets\\sinais_renom...\n",
       "..                                                 ...\n",
       "162  C:\\Users\\vinic\\Documents\\datasets\\sinais_renom...\n",
       "163  C:\\Users\\vinic\\Documents\\datasets\\sinais_renom...\n",
       "164  C:\\Users\\vinic\\Documents\\datasets\\sinais_renom...\n",
       "165  C:\\Users\\vinic\\Documents\\datasets\\sinais_renom...\n",
       "166  C:\\Users\\vinic\\Documents\\datasets\\sinais_renom...\n",
       "\n",
       "[167 rows x 1 columns]"
      ]
     },
     "execution_count": 4,
     "metadata": {},
     "output_type": "execute_result"
    }
   ],
   "source": [
    "lista_sinais = []\n",
    "all_path = []\n",
    "for item in range(len(conteudo)):\n",
    "    files_path = glob.glob(path_data+'\\\\'+conteudo[item]+'\\\\'+'*.wav')\n",
    "    all_path += files_path\n",
    "\n",
    "df[\"caminho\"] = all_path\n",
    "df"
   ]
  },
  {
   "cell_type": "code",
   "execution_count": 6,
   "metadata": {},
   "outputs": [
    {
     "name": "stdout",
     "output_type": "stream",
     "text": [
      "C:\\Users\\vinic\\Documents\\datasets\\sinais_renomeados_kay\\Paralisia\\paralisia9.wav\n",
      "paralisia9.wav\n",
      "paralisia9\n",
      "paralisia\n",
      "9\n",
      "1\n"
     ]
    }
   ],
   "source": [
    "files = []\n",
    "condition = []\n",
    "numb = []\n",
    "sem_wav = []\n",
    "index_class =[]\n",
    "patologias = ['edema', 'nodulo', 'paralisia']\n",
    "for i in range(len(df)):\n",
    "    caminho = df[\"caminho\"][i] # mapear cada arquivo\n",
    "    arquivo = caminho.split(\"\\\\\")[-1] # pega o nome de cada arquivo wav\n",
    "    arquivo_sem_wav = arquivo[:-4] # tira a extensão wav\n",
    "    # agora, separar o número do arquivo\n",
    "    match = re.search(r\"([a-zA-Z]+)(\\d+)$\", arquivo_sem_wav)\n",
    "    if match:\n",
    "        prefixo_nome = match.group(1)\n",
    "        sufixo_numero = match.group(2)\n",
    "\n",
    "    if prefixo_nome in patologias:\n",
    "        ind_class = 1\n",
    "    else:\n",
    "        ind_class = 0\n",
    "\n",
    "    files.append(arquivo)\n",
    "    sem_wav.append(arquivo_sem_wav)\n",
    "    condition.append(prefixo_nome)\n",
    "    numb.append(sufixo_numero)\n",
    "    index_class.append(ind_class)\n",
    "\n",
    "print(caminho)\n",
    "print(arquivo)\n",
    "print(arquivo_sem_wav)\n",
    "print(prefixo_nome)\n",
    "print(sufixo_numero)\n",
    "print(ind_class)"
   ]
  },
  {
   "cell_type": "code",
   "execution_count": 7,
   "metadata": {},
   "outputs": [
    {
     "data": {
      "text/html": [
       "<div>\n",
       "<style scoped>\n",
       "    .dataframe tbody tr th:only-of-type {\n",
       "        vertical-align: middle;\n",
       "    }\n",
       "\n",
       "    .dataframe tbody tr th {\n",
       "        vertical-align: top;\n",
       "    }\n",
       "\n",
       "    .dataframe thead th {\n",
       "        text-align: right;\n",
       "    }\n",
       "</style>\n",
       "<table border=\"1\" class=\"dataframe\">\n",
       "  <thead>\n",
       "    <tr style=\"text-align: right;\">\n",
       "      <th></th>\n",
       "      <th>caminho</th>\n",
       "      <th>arquivo_wav</th>\n",
       "      <th>arquivo_sem_wav</th>\n",
       "      <th>classe</th>\n",
       "      <th>index_na_classe</th>\n",
       "      <th>index_classification</th>\n",
       "    </tr>\n",
       "  </thead>\n",
       "  <tbody>\n",
       "    <tr>\n",
       "      <th>0</th>\n",
       "      <td>C:\\Users\\vinic\\Documents\\datasets\\sinais_renom...</td>\n",
       "      <td>edema1.wav</td>\n",
       "      <td>edema1</td>\n",
       "      <td>edema</td>\n",
       "      <td>1</td>\n",
       "      <td>1</td>\n",
       "    </tr>\n",
       "    <tr>\n",
       "      <th>1</th>\n",
       "      <td>C:\\Users\\vinic\\Documents\\datasets\\sinais_renom...</td>\n",
       "      <td>edema10.wav</td>\n",
       "      <td>edema10</td>\n",
       "      <td>edema</td>\n",
       "      <td>10</td>\n",
       "      <td>1</td>\n",
       "    </tr>\n",
       "    <tr>\n",
       "      <th>2</th>\n",
       "      <td>C:\\Users\\vinic\\Documents\\datasets\\sinais_renom...</td>\n",
       "      <td>edema11.wav</td>\n",
       "      <td>edema11</td>\n",
       "      <td>edema</td>\n",
       "      <td>11</td>\n",
       "      <td>1</td>\n",
       "    </tr>\n",
       "    <tr>\n",
       "      <th>3</th>\n",
       "      <td>C:\\Users\\vinic\\Documents\\datasets\\sinais_renom...</td>\n",
       "      <td>edema12.wav</td>\n",
       "      <td>edema12</td>\n",
       "      <td>edema</td>\n",
       "      <td>12</td>\n",
       "      <td>1</td>\n",
       "    </tr>\n",
       "    <tr>\n",
       "      <th>4</th>\n",
       "      <td>C:\\Users\\vinic\\Documents\\datasets\\sinais_renom...</td>\n",
       "      <td>edema13.wav</td>\n",
       "      <td>edema13</td>\n",
       "      <td>edema</td>\n",
       "      <td>13</td>\n",
       "      <td>1</td>\n",
       "    </tr>\n",
       "    <tr>\n",
       "      <th>...</th>\n",
       "      <td>...</td>\n",
       "      <td>...</td>\n",
       "      <td>...</td>\n",
       "      <td>...</td>\n",
       "      <td>...</td>\n",
       "      <td>...</td>\n",
       "    </tr>\n",
       "    <tr>\n",
       "      <th>162</th>\n",
       "      <td>C:\\Users\\vinic\\Documents\\datasets\\sinais_renom...</td>\n",
       "      <td>paralisia52.wav</td>\n",
       "      <td>paralisia52</td>\n",
       "      <td>paralisia</td>\n",
       "      <td>52</td>\n",
       "      <td>1</td>\n",
       "    </tr>\n",
       "    <tr>\n",
       "      <th>163</th>\n",
       "      <td>C:\\Users\\vinic\\Documents\\datasets\\sinais_renom...</td>\n",
       "      <td>paralisia6.wav</td>\n",
       "      <td>paralisia6</td>\n",
       "      <td>paralisia</td>\n",
       "      <td>6</td>\n",
       "      <td>1</td>\n",
       "    </tr>\n",
       "    <tr>\n",
       "      <th>164</th>\n",
       "      <td>C:\\Users\\vinic\\Documents\\datasets\\sinais_renom...</td>\n",
       "      <td>paralisia7.wav</td>\n",
       "      <td>paralisia7</td>\n",
       "      <td>paralisia</td>\n",
       "      <td>7</td>\n",
       "      <td>1</td>\n",
       "    </tr>\n",
       "    <tr>\n",
       "      <th>165</th>\n",
       "      <td>C:\\Users\\vinic\\Documents\\datasets\\sinais_renom...</td>\n",
       "      <td>paralisia8.wav</td>\n",
       "      <td>paralisia8</td>\n",
       "      <td>paralisia</td>\n",
       "      <td>8</td>\n",
       "      <td>1</td>\n",
       "    </tr>\n",
       "    <tr>\n",
       "      <th>166</th>\n",
       "      <td>C:\\Users\\vinic\\Documents\\datasets\\sinais_renom...</td>\n",
       "      <td>paralisia9.wav</td>\n",
       "      <td>paralisia9</td>\n",
       "      <td>paralisia</td>\n",
       "      <td>9</td>\n",
       "      <td>1</td>\n",
       "    </tr>\n",
       "  </tbody>\n",
       "</table>\n",
       "<p>167 rows × 6 columns</p>\n",
       "</div>"
      ],
      "text/plain": [
       "                                               caminho      arquivo_wav  \\\n",
       "0    C:\\Users\\vinic\\Documents\\datasets\\sinais_renom...       edema1.wav   \n",
       "1    C:\\Users\\vinic\\Documents\\datasets\\sinais_renom...      edema10.wav   \n",
       "2    C:\\Users\\vinic\\Documents\\datasets\\sinais_renom...      edema11.wav   \n",
       "3    C:\\Users\\vinic\\Documents\\datasets\\sinais_renom...      edema12.wav   \n",
       "4    C:\\Users\\vinic\\Documents\\datasets\\sinais_renom...      edema13.wav   \n",
       "..                                                 ...              ...   \n",
       "162  C:\\Users\\vinic\\Documents\\datasets\\sinais_renom...  paralisia52.wav   \n",
       "163  C:\\Users\\vinic\\Documents\\datasets\\sinais_renom...   paralisia6.wav   \n",
       "164  C:\\Users\\vinic\\Documents\\datasets\\sinais_renom...   paralisia7.wav   \n",
       "165  C:\\Users\\vinic\\Documents\\datasets\\sinais_renom...   paralisia8.wav   \n",
       "166  C:\\Users\\vinic\\Documents\\datasets\\sinais_renom...   paralisia9.wav   \n",
       "\n",
       "    arquivo_sem_wav     classe index_na_classe  index_classification  \n",
       "0            edema1      edema               1                     1  \n",
       "1           edema10      edema              10                     1  \n",
       "2           edema11      edema              11                     1  \n",
       "3           edema12      edema              12                     1  \n",
       "4           edema13      edema              13                     1  \n",
       "..              ...        ...             ...                   ...  \n",
       "162     paralisia52  paralisia              52                     1  \n",
       "163      paralisia6  paralisia               6                     1  \n",
       "164      paralisia7  paralisia               7                     1  \n",
       "165      paralisia8  paralisia               8                     1  \n",
       "166      paralisia9  paralisia               9                     1  \n",
       "\n",
       "[167 rows x 6 columns]"
      ]
     },
     "execution_count": 7,
     "metadata": {},
     "output_type": "execute_result"
    }
   ],
   "source": [
    "df[\"arquivo_wav\"] = files\n",
    "df[\"arquivo_sem_wav\"] = sem_wav\n",
    "df[\"classe\"] = condition\n",
    "df[\"index_na_classe\"] = numb\n",
    "df[\"index_classification\"] = index_class\n",
    "df"
   ]
  },
  {
   "cell_type": "code",
   "execution_count": 8,
   "metadata": {},
   "outputs": [],
   "source": [
    "# saving dataset\n",
    "df.to_csv(\"dataset_key_v1.csv\")\n",
    "df.to_pickle(\"dataset_key_v1.pkl\")"
   ]
  },
  {
   "cell_type": "code",
   "execution_count": 43,
   "metadata": {},
   "outputs": [],
   "source": [
    "np.savetxt('sinais.txt',lista_sinais,fmt='%s',delimiter=',',newline='\\n')"
   ]
  }
 ],
 "metadata": {
  "kernelspec": {
   "display_name": "base",
   "language": "python",
   "name": "python3"
  },
  "language_info": {
   "codemirror_mode": {
    "name": "ipython",
    "version": 3
   },
   "file_extension": ".py",
   "mimetype": "text/x-python",
   "name": "python",
   "nbconvert_exporter": "python",
   "pygments_lexer": "ipython3",
   "version": "3.9.12"
  },
  "orig_nbformat": 4
 },
 "nbformat": 4,
 "nbformat_minor": 2
}
