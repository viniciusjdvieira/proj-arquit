{
 "cells": [
  {
   "attachments": {},
   "cell_type": "markdown",
   "metadata": {},
   "source": [
    "## Testing features"
   ]
  },
  {
   "cell_type": "code",
   "execution_count": 1,
   "metadata": {},
   "outputs": [],
   "source": [
    "import numpy as np\n",
    "import pandas as pd\n",
    "import matplotlib.pyplot as plt\n",
    "import scipy\n",
    "import parselmouth\n",
    "import soundfile as sf\n",
    "import librosa\n",
    "import os\n",
    "import glob\n",
    "import re"
   ]
  },
  {
   "cell_type": "code",
   "execution_count": 2,
   "metadata": {},
   "outputs": [
    {
     "data": {
      "text/html": [
       "<div>\n",
       "<style scoped>\n",
       "    .dataframe tbody tr th:only-of-type {\n",
       "        vertical-align: middle;\n",
       "    }\n",
       "\n",
       "    .dataframe tbody tr th {\n",
       "        vertical-align: top;\n",
       "    }\n",
       "\n",
       "    .dataframe thead th {\n",
       "        text-align: right;\n",
       "    }\n",
       "</style>\n",
       "<table border=\"1\" class=\"dataframe\">\n",
       "  <thead>\n",
       "    <tr style=\"text-align: right;\">\n",
       "      <th></th>\n",
       "      <th>Unnamed: 0</th>\n",
       "      <th>caminho</th>\n",
       "      <th>arquivo_wav</th>\n",
       "      <th>arquivo_sem_wav</th>\n",
       "      <th>classe</th>\n",
       "      <th>index_na_classe</th>\n",
       "      <th>index_classification</th>\n",
       "    </tr>\n",
       "  </thead>\n",
       "  <tbody>\n",
       "    <tr>\n",
       "      <th>0</th>\n",
       "      <td>0</td>\n",
       "      <td>C:\\Users\\vinic\\Documents\\datasets\\sinais_renom...</td>\n",
       "      <td>edema1.wav</td>\n",
       "      <td>edema1</td>\n",
       "      <td>edema</td>\n",
       "      <td>1</td>\n",
       "      <td>1</td>\n",
       "    </tr>\n",
       "    <tr>\n",
       "      <th>1</th>\n",
       "      <td>1</td>\n",
       "      <td>C:\\Users\\vinic\\Documents\\datasets\\sinais_renom...</td>\n",
       "      <td>edema10.wav</td>\n",
       "      <td>edema10</td>\n",
       "      <td>edema</td>\n",
       "      <td>10</td>\n",
       "      <td>1</td>\n",
       "    </tr>\n",
       "    <tr>\n",
       "      <th>2</th>\n",
       "      <td>2</td>\n",
       "      <td>C:\\Users\\vinic\\Documents\\datasets\\sinais_renom...</td>\n",
       "      <td>edema11.wav</td>\n",
       "      <td>edema11</td>\n",
       "      <td>edema</td>\n",
       "      <td>11</td>\n",
       "      <td>1</td>\n",
       "    </tr>\n",
       "    <tr>\n",
       "      <th>3</th>\n",
       "      <td>3</td>\n",
       "      <td>C:\\Users\\vinic\\Documents\\datasets\\sinais_renom...</td>\n",
       "      <td>edema12.wav</td>\n",
       "      <td>edema12</td>\n",
       "      <td>edema</td>\n",
       "      <td>12</td>\n",
       "      <td>1</td>\n",
       "    </tr>\n",
       "    <tr>\n",
       "      <th>4</th>\n",
       "      <td>4</td>\n",
       "      <td>C:\\Users\\vinic\\Documents\\datasets\\sinais_renom...</td>\n",
       "      <td>edema13.wav</td>\n",
       "      <td>edema13</td>\n",
       "      <td>edema</td>\n",
       "      <td>13</td>\n",
       "      <td>1</td>\n",
       "    </tr>\n",
       "    <tr>\n",
       "      <th>...</th>\n",
       "      <td>...</td>\n",
       "      <td>...</td>\n",
       "      <td>...</td>\n",
       "      <td>...</td>\n",
       "      <td>...</td>\n",
       "      <td>...</td>\n",
       "      <td>...</td>\n",
       "    </tr>\n",
       "    <tr>\n",
       "      <th>162</th>\n",
       "      <td>162</td>\n",
       "      <td>C:\\Users\\vinic\\Documents\\datasets\\sinais_renom...</td>\n",
       "      <td>paralisia52.wav</td>\n",
       "      <td>paralisia52</td>\n",
       "      <td>paralisia</td>\n",
       "      <td>52</td>\n",
       "      <td>1</td>\n",
       "    </tr>\n",
       "    <tr>\n",
       "      <th>163</th>\n",
       "      <td>163</td>\n",
       "      <td>C:\\Users\\vinic\\Documents\\datasets\\sinais_renom...</td>\n",
       "      <td>paralisia6.wav</td>\n",
       "      <td>paralisia6</td>\n",
       "      <td>paralisia</td>\n",
       "      <td>6</td>\n",
       "      <td>1</td>\n",
       "    </tr>\n",
       "    <tr>\n",
       "      <th>164</th>\n",
       "      <td>164</td>\n",
       "      <td>C:\\Users\\vinic\\Documents\\datasets\\sinais_renom...</td>\n",
       "      <td>paralisia7.wav</td>\n",
       "      <td>paralisia7</td>\n",
       "      <td>paralisia</td>\n",
       "      <td>7</td>\n",
       "      <td>1</td>\n",
       "    </tr>\n",
       "    <tr>\n",
       "      <th>165</th>\n",
       "      <td>165</td>\n",
       "      <td>C:\\Users\\vinic\\Documents\\datasets\\sinais_renom...</td>\n",
       "      <td>paralisia8.wav</td>\n",
       "      <td>paralisia8</td>\n",
       "      <td>paralisia</td>\n",
       "      <td>8</td>\n",
       "      <td>1</td>\n",
       "    </tr>\n",
       "    <tr>\n",
       "      <th>166</th>\n",
       "      <td>166</td>\n",
       "      <td>C:\\Users\\vinic\\Documents\\datasets\\sinais_renom...</td>\n",
       "      <td>paralisia9.wav</td>\n",
       "      <td>paralisia9</td>\n",
       "      <td>paralisia</td>\n",
       "      <td>9</td>\n",
       "      <td>1</td>\n",
       "    </tr>\n",
       "  </tbody>\n",
       "</table>\n",
       "<p>167 rows × 7 columns</p>\n",
       "</div>"
      ],
      "text/plain": [
       "     Unnamed: 0                                            caminho  \\\n",
       "0             0  C:\\Users\\vinic\\Documents\\datasets\\sinais_renom...   \n",
       "1             1  C:\\Users\\vinic\\Documents\\datasets\\sinais_renom...   \n",
       "2             2  C:\\Users\\vinic\\Documents\\datasets\\sinais_renom...   \n",
       "3             3  C:\\Users\\vinic\\Documents\\datasets\\sinais_renom...   \n",
       "4             4  C:\\Users\\vinic\\Documents\\datasets\\sinais_renom...   \n",
       "..          ...                                                ...   \n",
       "162         162  C:\\Users\\vinic\\Documents\\datasets\\sinais_renom...   \n",
       "163         163  C:\\Users\\vinic\\Documents\\datasets\\sinais_renom...   \n",
       "164         164  C:\\Users\\vinic\\Documents\\datasets\\sinais_renom...   \n",
       "165         165  C:\\Users\\vinic\\Documents\\datasets\\sinais_renom...   \n",
       "166         166  C:\\Users\\vinic\\Documents\\datasets\\sinais_renom...   \n",
       "\n",
       "         arquivo_wav arquivo_sem_wav     classe  index_na_classe  \\\n",
       "0         edema1.wav          edema1      edema                1   \n",
       "1        edema10.wav         edema10      edema               10   \n",
       "2        edema11.wav         edema11      edema               11   \n",
       "3        edema12.wav         edema12      edema               12   \n",
       "4        edema13.wav         edema13      edema               13   \n",
       "..               ...             ...        ...              ...   \n",
       "162  paralisia52.wav     paralisia52  paralisia               52   \n",
       "163   paralisia6.wav      paralisia6  paralisia                6   \n",
       "164   paralisia7.wav      paralisia7  paralisia                7   \n",
       "165   paralisia8.wav      paralisia8  paralisia                8   \n",
       "166   paralisia9.wav      paralisia9  paralisia                9   \n",
       "\n",
       "     index_classification  \n",
       "0                       1  \n",
       "1                       1  \n",
       "2                       1  \n",
       "3                       1  \n",
       "4                       1  \n",
       "..                    ...  \n",
       "162                     1  \n",
       "163                     1  \n",
       "164                     1  \n",
       "165                     1  \n",
       "166                     1  \n",
       "\n",
       "[167 rows x 7 columns]"
      ]
     },
     "execution_count": 2,
     "metadata": {},
     "output_type": "execute_result"
    }
   ],
   "source": [
    "df = pd.read_csv(\"..\\\\dataset_key_v1.csv\")\n",
    "df"
   ]
  },
  {
   "cell_type": "code",
   "execution_count": 3,
   "metadata": {},
   "outputs": [
    {
     "data": {
      "text/plain": [
       "'C:\\\\Users\\\\vinic\\\\Documents\\\\datasets\\\\sinais_renomeados_kay\\\\Edema\\\\edema1.wav'"
      ]
     },
     "execution_count": 3,
     "metadata": {},
     "output_type": "execute_result"
    }
   ],
   "source": [
    "sinal = df[\"caminho\"][0]\n",
    "sinal"
   ]
  },
  {
   "cell_type": "code",
   "execution_count": 4,
   "metadata": {},
   "outputs": [
    {
     "name": "stdout",
     "output_type": "stream",
     "text": [
      "25000\n"
     ]
    }
   ],
   "source": [
    "data, samplerate = sf.read(sinal)\n",
    "print(samplerate)"
   ]
  },
  {
   "cell_type": "code",
   "execution_count": 17,
   "metadata": {},
   "outputs": [
    {
     "data": {
      "text/plain": [
       "512.0"
      ]
     },
     "execution_count": 17,
     "metadata": {},
     "output_type": "execute_result"
    }
   ],
   "source": [
    "0.02048*samplerate"
   ]
  },
  {
   "cell_type": "code",
   "execution_count": 6,
   "metadata": {},
   "outputs": [
    {
     "data": {
      "image/png": "[encoded data removed]",
      "text/plain": [
       "<Figure size 432x288 with 1 Axes>"
      ]
     },
     "metadata": {
      "needs_background": "light"
     },
     "output_type": "display_data"
    }
   ],
   "source": [
    "plt.plot(data)\n",
    "plt.show()"
   ]
  },
  {
   "cell_type": "code",
   "execution_count": 8,
   "metadata": {},
   "outputs": [
    {
     "data": {
      "text/plain": [
       "array([ 1.00000000e+00, -3.71161369e-01, -6.98330773e-01, -1.83629875e-01,\n",
       "        2.99101067e-01, -2.51778318e-01,  2.48225029e-02,  1.67258203e-01,\n",
       "        7.63119109e-02, -1.22649106e-03,  9.50921920e-02,  6.66172822e-02,\n",
       "       -5.66810578e-02, -2.09298483e-01, -8.06922651e-02,  7.98182716e-02,\n",
       "       -5.69610994e-02, -5.49184570e-02,  1.44634358e-01,  1.35613834e-01,\n",
       "       -1.46334941e-01, -3.28135785e-04,  2.47555297e-01, -4.73114650e-02,\n",
       "       -2.09996648e-01, -1.55580014e-01,  8.09362243e-02,  2.23984870e-01,\n",
       "        6.26758069e-02, -1.42931718e-01])"
      ]
     },
     "execution_count": 8,
     "metadata": {},
     "output_type": "execute_result"
    }
   ],
   "source": [
    "librosa.lpc(data, order = 29)"
   ]
  },
  {
   "cell_type": "code",
   "execution_count": 60,
   "metadata": {},
   "outputs": [
    {
     "name": "stderr",
     "output_type": "stream",
     "text": [
      "C:\\Users\\vinic\\AppData\\Local\\Temp\\ipykernel_8916\\397054330.py:1: FutureWarning: Pass y=[ 6.19323730e-01  6.04064941e-01  6.50512695e-01 ...  9.46044922e-03\n",
      " -4.88281250e-04 -4.54711914e-03] as keyword args. From version 0.10 passing these as positional arguments will result in an error\n",
      "  x=librosa.feature.mfcc(data, n_mfcc=12, window = 'hamming')\n"
     ]
    },
    {
     "data": {
      "text/plain": [
       "(12, 50)"
      ]
     },
     "execution_count": 60,
     "metadata": {},
     "output_type": "execute_result"
    }
   ],
   "source": [
    "x=librosa.feature.mfcc(data, n_mfcc=12, window = 'hamming')\n",
    "np.shape(x)"
   ]
  },
  {
   "cell_type": "code",
   "execution_count": 57,
   "metadata": {},
   "outputs": [
    {
     "name": "stderr",
     "output_type": "stream",
     "text": [
      "C:\\Users\\vinic\\AppData\\Local\\Temp\\ipykernel_8916\\2988029922.py:1: FutureWarning: Pass y=[ 6.19323730e-01  6.04064941e-01  6.50512695e-01 ...  9.46044922e-03\n",
      " -4.88281250e-04 -4.54711914e-03] as keyword args. From version 0.10 passing these as positional arguments will result in an error\n",
      "  np.mean(librosa.feature.mfcc(data, n_mfcc=12, window = 'hamming'), axis=1, keepdims=True)\n"
     ]
    },
    {
     "data": {
      "text/plain": [
       "array([[-163.13142054],\n",
       "       [  88.11747717],\n",
       "       [  28.99710601],\n",
       "       [ -17.6660007 ],\n",
       "       [  20.90822851],\n",
       "       [ -19.86980528],\n",
       "       [  39.23583929],\n",
       "       [  -1.34151624],\n",
       "       [ -22.41461229],\n",
       "       [   5.6088064 ],\n",
       "       [  11.50983873],\n",
       "       [  20.36011153]])"
      ]
     },
     "execution_count": 57,
     "metadata": {},
     "output_type": "execute_result"
    }
   ],
   "source": [
    "np.mean(librosa.feature.mfcc(data, n_mfcc=12, window = 'hamming'), axis=1, keepdims=True)"
   ]
  },
  {
   "cell_type": "code",
   "execution_count": 18,
   "metadata": {},
   "outputs": [
    {
     "name": "stdout",
     "output_type": "stream",
     "text": [
      "amostras de frame:  512\n",
      "amostras de sobreposição:  256\n"
     ]
    }
   ],
   "source": [
    "frame_length = int(0.02048*samplerate)\n",
    "hop_length = frame_length // 2\n",
    "print('amostras de frame: ', frame_length)\n",
    "print('amostras de sobreposição: ', hop_length)"
   ]
  },
  {
   "cell_type": "code",
   "execution_count": 48,
   "metadata": {},
   "outputs": [
    {
     "name": "stdout",
     "output_type": "stream",
     "text": [
      "97\n"
     ]
    },
    {
     "data": {
      "text/plain": [
       "(97, 29)"
      ]
     },
     "execution_count": 48,
     "metadata": {},
     "output_type": "execute_result"
    }
   ],
   "source": [
    "last_sf = len(data) - frame_length\n",
    "window = np.hamming(frame_length)\n",
    "conta = 0\n",
    "ordem = (25000 // 1000) + 4\n",
    "ff = []\n",
    "for start in range(0, last_sf + 1, hop_length):\n",
    "    end_sf = start + frame_length\n",
    "    fi = data[start : end_sf]\n",
    "    fi_w = fi * window\n",
    "    f_lpc = librosa.lpc(fi_w, order = ordem)\n",
    "    ff.append(f_lpc[1:])\n",
    "    conta += 1\n",
    "    #print(fi)\n",
    "print(conta)\n",
    "np.shape(ff)"
   ]
  },
  {
   "cell_type": "code",
   "execution_count": 49,
   "metadata": {},
   "outputs": [
    {
     "data": {
      "text/plain": [
       "[array([-0.43378251, -0.48972336, -0.16910512,  0.12163627, -0.22485993,\n",
       "         0.00232371,  0.18716561,  0.18884462, -0.08023566,  0.0235838 ,\n",
       "         0.0727942 , -0.16857682, -0.1896194 ,  0.00888732,  0.10908173,\n",
       "        -0.02202751,  0.02346302,  0.14707067, -0.01890797, -0.11476444,\n",
       "        -0.01255367,  0.17978694, -0.02319904, -0.05812926, -0.10729572,\n",
       "        -0.02105354,  0.13458395,  0.09916393, -0.12191628]),\n",
       " array([-0.4023708 , -1.29197181, -0.09740744,  1.33954505, -0.36497189,\n",
       "        -0.5913775 ,  0.10008809,  0.54169157, -0.1188376 ,  0.29002793,\n",
       "        -0.28657343, -0.06634681, -0.08605765, -0.02282581, -0.30630797,\n",
       "         0.24778264,  0.07510411,  0.06149544,  0.01550789, -0.10760143,\n",
       "         0.10551565,  0.53359385, -0.28368875, -0.7160531 ,  0.15790813,\n",
       "         0.43011863, -0.07543378, -0.14224933,  0.08423626]),\n",
       " array([-0.55382019, -1.19436545,  0.09675188,  1.36645011, -0.6395389 ,\n",
       "        -0.57012968,  0.12565101,  0.66693487, -0.0425085 ,  0.14903256,\n",
       "        -0.43625835,  0.07783573,  0.06215709, -0.07370397, -0.49612092,\n",
       "         0.27090799,  0.17612697,  0.08772693, -0.10141502, -0.12160532,\n",
       "         0.17181595,  0.54777624, -0.29314542, -0.68146501,  0.18216045,\n",
       "         0.39573488, -0.10598799, -0.16265036,  0.11576272]),\n",
       " array([-5.60542366e-01, -1.14438435e+00,  7.11362800e-02,  1.28986666e+00,\n",
       "        -6.38143003e-01, -5.18421875e-01,  1.79307309e-01,  5.35402882e-01,\n",
       "        -5.84504512e-05,  3.44026011e-01, -4.54910973e-01, -3.51171887e-01,\n",
       "         2.62725407e-01,  3.52923904e-01, -6.38272803e-01, -2.77603820e-01,\n",
       "         3.95464584e-01,  3.38472209e-01, -1.01875907e-01, -1.54148123e-01,\n",
       "         1.77781897e-01,  3.24663659e-01, -1.79470052e-01, -5.19631401e-01,\n",
       "         8.14434588e-02,  1.91915974e-01,  1.03683347e-02, -8.26205378e-02,\n",
       "         8.56924964e-02]),\n",
       " array([-0.56922603, -1.23680136,  0.19301143,  1.38838553, -0.79385783,\n",
       "        -0.55152231,  0.51209195,  0.31903067, -0.40249   ,  0.61408974,\n",
       "        -0.08723089, -0.53290649, -0.03239545,  0.32672733, -0.43361978,\n",
       "        -0.0577083 ,  0.44677666,  0.1471844 , -0.46171339, -0.03691685,\n",
       "         0.56912046,  0.21261836, -0.58128063, -0.3749268 ,  0.4345951 ,\n",
       "         0.18078618, -0.16704574, -0.17852778,  0.17288839]),\n",
       " array([-0.51916156, -1.16061096,  0.05673807,  1.16131485, -0.54323493,\n",
       "        -0.39563484,  0.11282155,  0.45751594, -0.07465909,  0.41652282,\n",
       "        -0.28159548, -0.16115784, -0.14479506,  0.13675787, -0.43575545,\n",
       "         0.09809394,  0.21108228,  0.20403658, -0.29802082,  0.03161735,\n",
       "         0.34585442,  0.460744  , -0.58135795, -0.49499412,  0.27170939,\n",
       "         0.31065751, -0.24795914, -0.07347519,  0.15720408]),\n",
       " array([-0.54511407, -1.16841404,  0.04547515,  1.44544164, -0.69010064,\n",
       "        -0.63700035,  0.05050105,  0.76855117, -0.12095417,  0.37099523,\n",
       "        -0.41424866, -0.0303577 , -0.09273701,  0.14980995, -0.43758071,\n",
       "         0.14487581,  0.03985188,  0.07226642, -0.12369575,  0.09530715,\n",
       "         0.31614417,  0.3471764 , -0.44002341, -0.55949259,  0.37272578,\n",
       "         0.27230084, -0.27874747, -0.21089662,  0.27922236]),\n",
       " array([-0.31586703, -1.33765399, -0.2046076 ,  1.33398833, -0.33520864,\n",
       "        -0.64595507,  0.14426191,  0.50774972, -0.01319083,  0.41067676,\n",
       "        -0.09731863, -0.3921895 , -0.18371257,  0.05406226, -0.27430563,\n",
       "        -0.00839738,  0.26915014,  0.24463122, -0.06667582, -0.21124687,\n",
       "         0.26063871,  0.56082048, -0.34921545, -0.75328368,  0.06519478,\n",
       "         0.34722739, -0.02927574, -0.07555861,  0.11745341]),\n",
       " array([-0.48984259, -1.16558308, -0.12010484,  1.30987457, -0.39229303,\n",
       "        -0.59360565,  0.01322607,  0.57537152,  0.14902651,  0.29951379,\n",
       "        -0.49544913, -0.19040555,  0.21029288,  0.04871211, -0.63876241,\n",
       "         0.14670827,  0.42468604,  0.07552787, -0.28536856,  0.02034623,\n",
       "         0.2218995 ,  0.46026063, -0.35948931, -0.6307175 ,  0.11694634,\n",
       "         0.45797235, -0.07534988, -0.21391868,  0.13986902]),\n",
       " array([-0.40578046, -1.22468913, -0.21686226,  1.26442796, -0.29817788,\n",
       "        -0.44686745,  0.12296405,  0.31707333, -0.06529925,  0.41443165,\n",
       "        -0.20725008, -0.21707548, -0.06648265, -0.03707501, -0.36305381,\n",
       "         0.23494226,  0.33327289,  0.10027068, -0.36196157, -0.10995797,\n",
       "         0.40796643,  0.45507271, -0.45841408, -0.59956357,  0.22574455,\n",
       "         0.34725488, -0.0684783 , -0.18777277,  0.13176254]),\n",
       " array([-0.4070394 , -1.28904419, -0.14961241,  1.38607383, -0.24663147,\n",
       "        -0.67853465,  0.11612589,  0.43952346, -0.08179967,  0.42158986,\n",
       "        -0.32907994, -0.30086108, -0.02804049,  0.25101331, -0.3878403 ,\n",
       "         0.07084722,  0.31815621,  0.03333341, -0.34226327, -0.01396844,\n",
       "         0.42047071,  0.42813141, -0.5528236 , -0.52214096,  0.30512792,\n",
       "         0.42542633, -0.19720828, -0.22158191,  0.15650414]),\n",
       " array([-0.51904016, -1.22215677,  0.11103502,  1.18275261, -0.39039613,\n",
       "        -0.55967321,  0.12079013,  0.23973979,  0.2030658 ,  0.49020358,\n",
       "        -0.50206343, -0.35420326,  0.18963233,  0.20918268, -0.44063449,\n",
       "         0.01770009,  0.25711417, -0.09369726, -0.08380724,  0.10586897,\n",
       "         0.29059896,  0.22693876, -0.43446034, -0.4158252 ,  0.357462  ,\n",
       "         0.30722015, -0.30399477, -0.17299995,  0.20548683]),\n",
       " array([-0.36378926, -1.19290545, -0.14816497,  1.07545125, -0.37566282,\n",
       "        -0.38100678,  0.16282705,  0.19224643,  0.10624362,  0.57897601,\n",
       "        -0.32509877, -0.38058401,  0.09382209,  0.08265673, -0.40773022,\n",
       "         0.04515877,  0.12304745, -0.01847201, -0.02037874,  0.16861804,\n",
       "         0.25222137,  0.16743005, -0.31949738, -0.24871669,  0.12984906,\n",
       "         0.0917491 , -0.14939215, -0.06561156,  0.15107229]),\n",
       " array([-0.38093976, -1.26141307, -0.22662068,  1.40377038, -0.29949499,\n",
       "        -0.82245911,  0.14790522,  0.78980134, -0.09906973,  0.11088236,\n",
       "        -0.13429737, -0.1687612 , -0.11285032,  0.14349551, -0.45496606,\n",
       "        -0.02327514,  0.47603609,  0.13496488, -0.44557892,  0.02262731,\n",
       "         0.54087455,  0.30282156, -0.56578336, -0.41616799,  0.25487319,\n",
       "         0.24442215, -0.23458658, -0.08417984,  0.18244819]),\n",
       " array([-0.50195561, -1.23361402,  0.00483535,  1.41286786, -0.50193748,\n",
       "        -0.7905766 ,  0.13528111,  0.70216517,  0.0854912 ,  0.1204302 ,\n",
       "        -0.46021258,  0.08876764,  0.12096456, -0.09104333, -0.55947904,\n",
       "         0.32680375,  0.2749048 , -0.08840739, -0.18455157,  0.0974841 ,\n",
       "         0.28200761,  0.28006649, -0.39085831, -0.43247079,  0.1355937 ,\n",
       "         0.23402711, -0.1239013 , -0.01398272,  0.09505015]),\n",
       " array([-0.40493112, -1.30955457,  0.00497161,  1.32287918, -0.51669736,\n",
       "        -0.81086406,  0.34332647,  0.7284796 , -0.05454439,  0.00452027,\n",
       "        -0.30259887,  0.24346519,  0.03710032, -0.48045879, -0.30609475,\n",
       "         0.53029818,  0.16212326, -0.37846109,  0.05817844,  0.19084403,\n",
       "         0.13209442,  0.29813063, -0.2605599 , -0.57824975,  0.15046439,\n",
       "         0.34721347, -0.13707362, -0.17384591,  0.18379976]),\n",
       " array([-0.44806854, -1.19597817, -0.02776904,  1.209025  , -0.43234624,\n",
       "        -0.75560045,  0.35577005,  0.60460294, -0.1522141 ,  0.16835596,\n",
       "        -0.26100534,  0.00177498,  0.00544275,  0.06549167, -0.45192177,\n",
       "         0.07265607,  0.34414805,  0.07169268, -0.30132215, -0.17630493,\n",
       "         0.51023001,  0.53377114, -0.6107523 , -0.55924099,  0.36392163,\n",
       "         0.34582274, -0.37821542, -0.15668815,  0.28033101]),\n",
       " array([-0.52556491, -1.12128691, -0.04320204,  1.28379184, -0.53091929,\n",
       "        -0.65426585,  0.25418541,  0.70738667, -0.106004  ,  0.02956814,\n",
       "        -0.23636921,  0.02769251, -0.06388752,  0.00283757, -0.29867599,\n",
       "         0.10602904,  0.1875843 ,  0.16995506, -0.26170186, -0.22811449,\n",
       "         0.34427987,  0.66348678, -0.63005866, -0.53972895,  0.37606831,\n",
       "         0.42823103, -0.34163634, -0.14274189,  0.16308661]),\n",
       " array([-0.37595783, -1.17975205, -0.2734063 ,  1.21676629, -0.18615936,\n",
       "        -0.57375566, -0.018647  ,  0.48711054,  0.14420114,  0.26022417,\n",
       "        -0.31471667, -0.18471618, -0.02743411,  0.05598605, -0.41146632,\n",
       "         0.13377378,  0.29146264,  0.21365026, -0.29218004, -0.26663667,\n",
       "         0.24121233,  0.71900345, -0.35149623, -0.81173777,  0.20264672,\n",
       "         0.60013418, -0.14005781, -0.28860237,  0.15272284]),\n",
       " array([-0.34625719, -1.35355078, -0.14584353,  1.49726561, -0.2843765 ,\n",
       "        -0.99029262,  0.13776823,  0.83784454, -0.03584398,  0.069209  ,\n",
       "        -0.31966876, -0.16634991, -0.06040129,  0.31315151, -0.35933806,\n",
       "        -0.04757064,  0.18786547,  0.21713076, -0.17728988, -0.16265526,\n",
       "         0.15811587,  0.51176179, -0.32593829, -0.46653732,  0.10582508,\n",
       "         0.43039883, -0.08738925, -0.11266437, -0.00176399]),\n",
       " array([-4.65017627e-01, -1.22875886e+00,  8.74399908e-02,  1.24555721e+00,\n",
       "        -3.97675132e-01, -8.21613925e-01,  2.11888115e-01,  5.05188036e-01,\n",
       "         1.64587825e-04,  2.47805400e-01, -2.77384445e-01, -1.66620033e-01,\n",
       "         1.03928409e-02,  1.60327265e-01, -3.04335954e-01,  1.18637073e-02,\n",
       "         1.32659095e-01,  1.19504763e-01, -1.02868400e-01, -1.45389041e-01,\n",
       "         2.83439519e-01,  4.57437450e-01, -4.88312291e-01, -4.82583952e-01,\n",
       "         2.78955062e-01,  3.90103301e-01, -2.28940527e-01, -1.18195740e-01,\n",
       "         1.07554516e-01]),\n",
       " array([-0.47393055, -1.09156382,  0.01406085,  1.11198319, -0.56294577,\n",
       "        -0.56787202,  0.3707369 ,  0.34753446, -0.07344882,  0.27931724,\n",
       "        -0.27777585, -0.16620621,  0.06191581,  0.19443969, -0.48590724,\n",
       "         0.10171356,  0.25441232,  0.1307519 , -0.22707787, -0.15143323,\n",
       "         0.34367589,  0.42527979, -0.40468883, -0.41522391,  0.1561176 ,\n",
       "         0.21996224, -0.17896622,  0.02721214,  0.06036692]),\n",
       " array([-0.47061927, -1.17599878,  0.12252029,  1.14992701, -0.53180929,\n",
       "        -0.57230998,  0.12741058,  0.4545675 ,  0.05636012,  0.14630959,\n",
       "        -0.39409472,  0.12063158,  0.07690867, -0.16941099, -0.23487324,\n",
       "         0.28821614,  0.0863329 , -0.03702666, -0.13292881, -0.15833145,\n",
       "         0.47382446,  0.52028492, -0.69206656, -0.56334026,  0.51282948,\n",
       "         0.24209862, -0.37039136, -0.10490424,  0.25768336]),\n",
       " array([-0.48646123, -1.20017444,  0.05550347,  1.24813074, -0.45882857,\n",
       "        -0.68532295,  0.16684516,  0.57550998,  0.01207252,  0.08611381,\n",
       "        -0.33995186,  0.11157014,  0.06299887, -0.22717533, -0.35736328,\n",
       "         0.28840283,  0.20412249, -0.02626988, -0.16053398, -0.11171205,\n",
       "         0.44679999,  0.54992755, -0.57887494, -0.70793663,  0.35585457,\n",
       "         0.44710267, -0.22155366, -0.15076377,  0.12483023]),\n",
       " array([-0.37022154, -1.42001703,  0.19513308,  1.4424534 , -0.71626332,\n",
       "        -1.02587789,  0.57410493,  0.79652305, -0.42083859,  0.05627117,\n",
       "         0.09903023,  0.03538963, -0.27007335, -0.06768416, -0.18199508,\n",
       "         0.04820365,  0.15557615,  0.19544099, -0.25511297, -0.19988529,\n",
       "         0.53867564,  0.55464624, -0.66074476, -0.55252378,  0.43187306,\n",
       "         0.26960181, -0.32259468, -0.0785563 ,  0.17418157]),\n",
       " array([-0.49955469, -1.20610663,  0.13955245,  1.35953133, -0.76837829,\n",
       "        -0.64390269,  0.34501222,  0.49976342, -0.1928818 ,  0.39871056,\n",
       "        -0.28059674, -0.2079001 ,  0.03655064,  0.22311592, -0.62101413,\n",
       "         0.05740523,  0.49120666,  0.09586314, -0.52227296, -0.01933825,\n",
       "         0.62495476,  0.34526802, -0.65356639, -0.46023321,  0.40005092,\n",
       "         0.32856202, -0.27278668, -0.0995633 ,  0.1254837 ]),\n",
       " array([-0.52015373, -1.16745141,  0.04833586,  1.25596574, -0.43089109,\n",
       "        -0.59433059,  0.06171393,  0.48668457, -0.07838391,  0.35057689,\n",
       "        -0.26406508, -0.14585534, -0.06455943,  0.13335157, -0.38460412,\n",
       "         0.13673152,  0.24019609,  0.04685131, -0.34639857, -0.01647139,\n",
       "         0.40942801,  0.48790758, -0.5716458 , -0.54866653,  0.31191235,\n",
       "         0.44917022, -0.19841313, -0.1445503 ,  0.07796934]),\n",
       " array([-0.48894681, -1.23202478,  0.26059033,  1.29008952, -0.87412986,\n",
       "        -0.58374248,  0.44550984,  0.36075993, -0.23992605,  0.44031331,\n",
       "        -0.27016268, -0.03073632, -0.06964003,  0.02717129, -0.30770204,\n",
       "         0.17938075, -0.02386982,  0.16665553, -0.18274801, -0.10230127,\n",
       "         0.38828962,  0.44528753, -0.65240274, -0.27410584,  0.36942819,\n",
       "         0.16747485, -0.27679337,  0.03691372,  0.05323959]),\n",
       " array([-0.61716718, -1.18441816,  0.31384917,  1.28741747, -0.73727112,\n",
       "        -0.74600509,  0.44146621,  0.57728943, -0.29058509,  0.28383225,\n",
       "        -0.10215116, -0.27349903, -0.03548328,  0.1150732 , -0.21167316,\n",
       "         0.0713632 , -0.00222999, -0.01550165,  0.02003841,  0.09046772,\n",
       "         0.19354695,  0.23424611, -0.36559157, -0.41068656,  0.34779584,\n",
       "         0.33548979, -0.29788664, -0.2173853 ,  0.21397218]),\n",
       " array([-0.56216889, -1.0601319 ,  0.07847286,  1.20813208, -0.67300642,\n",
       "        -0.52678642,  0.315128  ,  0.48960338, -0.21434419,  0.22397189,\n",
       "        -0.14372013, -0.11870743, -0.02972719,  0.0825353 , -0.31977699,\n",
       "        -0.03274843,  0.19177932,  0.22107936, -0.14087463, -0.29585742,\n",
       "         0.354516  ,  0.54275015, -0.44520547, -0.64222617,  0.40578614,\n",
       "         0.39089771, -0.17419449, -0.23521451,  0.12854651]),\n",
       " array([-0.47588183, -1.21758225,  0.10956245,  1.30082754, -0.64881774,\n",
       "        -0.58160745,  0.25138225,  0.49582042, -0.10656299,  0.15571948,\n",
       "        -0.18521579, -0.0546983 , -0.0508296 , -0.05920841, -0.19289662,\n",
       "         0.14828623,  0.05438607,  0.12793093, -0.15219668, -0.11980067,\n",
       "         0.24808206,  0.56575259, -0.58908152, -0.53110719,  0.34254392,\n",
       "         0.47026667, -0.22201157, -0.11095105,  0.04969039]),\n",
       " array([-0.48083428, -1.33009954,  0.19582525,  1.37085555, -0.64675539,\n",
       "        -0.69822722,  0.41533903,  0.56021282, -0.40823664,  0.24810585,\n",
       "         0.0144911 , -0.19580918, -0.11999019,  0.18807712, -0.4105942 ,\n",
       "        -0.10989968,  0.43928912,  0.30122921, -0.51762891, -0.13049038,\n",
       "         0.62463702,  0.32182485, -0.75723094, -0.41361861,  0.53111914,\n",
       "         0.31722321, -0.31967307, -0.11418474,  0.14825628]),\n",
       " array([-0.54656693, -1.04651348,  0.0044014 ,  1.20092855, -0.63190197,\n",
       "        -0.40117845,  0.21429479,  0.52338477, -0.26525889,  0.37123735,\n",
       "        -0.1895643 , -0.24512392, -0.15985885,  0.2020359 , -0.24989161,\n",
       "        -0.1041721 ,  0.22280496,  0.29134855, -0.16696268, -0.24816509,\n",
       "         0.29656983,  0.39816192, -0.31783134, -0.52958721,  0.10266446,\n",
       "         0.35338157,  0.05424936, -0.11316093,  0.00460187]),\n",
       " array([-0.52248369, -1.1890636 ,  0.11683178,  1.2802921 , -0.68997331,\n",
       "        -0.44392693,  0.3580612 ,  0.35137906, -0.3708801 ,  0.50733401,\n",
       "        -0.16573218, -0.3377212 , -0.01748914,  0.31783561, -0.50151863,\n",
       "         0.01873511,  0.37104729,  0.10050067, -0.43486958,  0.10935605,\n",
       "         0.3737598 ,  0.20380243, -0.46500476, -0.32455961,  0.23415319,\n",
       "         0.27352811, -0.04752013, -0.10555364,  0.01968269]),\n",
       " array([-0.50631156, -1.12118447,  0.2283882 ,  1.03659851, -0.78879409,\n",
       "        -0.27358497,  0.27329525,  0.21143271, -0.01688194,  0.51940543,\n",
       "        -0.44166412, -0.18040521,  0.11763522,  0.05428019, -0.4505181 ,\n",
       "         0.12701841,  0.03491044,  0.2705104 , -0.20737829, -0.11707473,\n",
       "         0.35469426,  0.5094033 , -0.66085568, -0.38794052,  0.39167052,\n",
       "         0.22019458, -0.24786851,  0.02887086,  0.04614112]),\n",
       " array([-0.64998163, -1.09527281,  0.28314651,  1.3137368 , -0.8498498 ,\n",
       "        -0.4816335 ,  0.34117968,  0.39152943, -0.27732568,  0.42652806,\n",
       "        -0.3033338 , -0.15376626, -0.02795904,  0.07676285, -0.23454467,\n",
       "         0.24456922, -0.02666624, -0.03621134,  0.0385358 , -0.17357279,\n",
       "         0.18226166,  0.54759482, -0.41197781, -0.66163509,  0.45325565,\n",
       "         0.43058605, -0.30290629, -0.20581301,  0.1860455 ]),\n",
       " array([-0.51051617, -1.26934216,  0.22039164,  1.36057748, -0.7056729 ,\n",
       "        -0.60910781,  0.38786363,  0.30130695, -0.21133918,  0.58017252,\n",
       "        -0.26889356, -0.53293226,  0.15779781,  0.2762403 , -0.55361576,\n",
       "         0.03813073,  0.45708717,  0.02559807, -0.36902359, -0.01213413,\n",
       "         0.39915368,  0.40089207, -0.4787576 , -0.56172368,  0.26456551,\n",
       "         0.43231221, -0.14112402, -0.12174462,  0.06796638]),\n",
       " array([-0.49181944, -1.19299939,  0.30640056,  1.02580123, -0.82707465,\n",
       "        -0.21642886,  0.40766053,  0.02008764, -0.12157347,  0.63696314,\n",
       "        -0.32311743, -0.28213066,  0.05194363,  0.00395698, -0.37983552,\n",
       "         0.22476155,  0.11597511, -0.01425239, -0.08132486, -0.00277722,\n",
       "         0.2782953 ,  0.38127132, -0.39235135, -0.44970568,  0.20652698,\n",
       "         0.19691025, -0.07280163, -0.0375044 ,  0.05452595]),\n",
       " array([-0.69257553, -1.00147237,  0.41897232,  0.78808639, -0.70642519,\n",
       "        -0.19358494,  0.37808549,  0.17047908, -0.11783403,  0.35567972,\n",
       "        -0.28521772, -0.20867928,  0.08553471,  0.04118747, -0.37488089,\n",
       "         0.05909335,  0.39933368, -0.01881291, -0.25832517,  0.13757756,\n",
       "         0.28131715,  0.12752644, -0.57077007, -0.1508312 ,  0.34299368,\n",
       "         0.08383538, -0.09607493,  0.05670838, -0.03224977]),\n",
       " array([-0.60501674, -1.25294809,  0.36389603,  1.43137228, -1.05956294,\n",
       "        -0.57546267,  0.75909045,  0.37838866, -0.63974546,  0.54973269,\n",
       "        -0.01578154, -0.4796352 , -0.08926495,  0.37588546, -0.32914185,\n",
       "        -0.066137  ,  0.2096271 ,  0.17925084, -0.29328749,  0.10528484,\n",
       "         0.23776036,  0.17501544, -0.44657281, -0.13087054,  0.11460922,\n",
       "         0.19324265, -0.06321604,  0.01984661, -0.0263817 ]),\n",
       " array([-0.57351606, -1.2466168 ,  0.18961931,  1.35132183, -0.73249238,\n",
       "        -0.45847396,  0.38112623,  0.22680114, -0.1938884 ,  0.74636804,\n",
       "        -0.42868358, -0.65778911,  0.20924227,  0.54298366, -0.74820552,\n",
       "        -0.02357038,  0.54399254,  0.07122916, -0.34642359,  0.22203805,\n",
       "         0.09976941,  0.14946793, -0.23408528, -0.33458688, -0.03506838,\n",
       "         0.33420863,  0.02560423, -0.06170214, -0.00152371]),\n",
       " array([-0.67419802, -1.18884733,  0.43893116,  1.14430625, -0.91542381,\n",
       "        -0.3409317 ,  0.62005432,  0.23223165, -0.4581754 ,  0.48877107,\n",
       "        -0.06175936, -0.34087196, -0.08367471,  0.20859299, -0.42843466,\n",
       "         0.14944539,  0.33771608,  0.03063819, -0.31442915,  0.10896454,\n",
       "         0.19703306,  0.28880772, -0.36407282, -0.40948241,  0.15790558,\n",
       "         0.30341875, -0.06779928, -0.0931969 ,  0.05106934]),\n",
       " array([-0.48675769, -1.32544396,  0.11183673,  1.43084761, -0.72714601,\n",
       "        -0.74924104,  0.69214903,  0.46516393, -0.55232117,  0.3992209 ,\n",
       "         0.21023678, -0.36216312, -0.32727459,  0.15494343, -0.12929775,\n",
       "        -0.01823457,  0.11879658,  0.23298487, -0.07821832, -0.17994346,\n",
       "         0.29018386,  0.39148299, -0.50354133, -0.52046254,  0.37961517,\n",
       "         0.2736717 , -0.16234901, -0.14621607,  0.13503001]),\n",
       " array([-0.50552136, -1.2967735 ,  0.10670755,  1.41629925, -0.643924  ,\n",
       "        -0.71899397,  0.32461702,  0.57872667, -0.15014954,  0.36358259,\n",
       "        -0.22565361, -0.33110832, -0.00526014,  0.15364099, -0.47189932,\n",
       "         0.18022696,  0.36489101, -0.03447837, -0.28851084,  0.19568749,\n",
       "         0.36123574,  0.13095545, -0.48609785, -0.3772562 ,  0.21106242,\n",
       "         0.19548892, -0.03182546, -0.08877639,  0.09174791]),\n",
       " array([-0.47859956, -1.13266383, -0.09434578,  1.14990161, -0.44091007,\n",
       "        -0.3347937 ,  0.24518151,  0.16341613,  0.06053709,  0.43004383,\n",
       "        -0.43279589, -0.35251603,  0.15916499,  0.1498728 , -0.43362626,\n",
       "         0.13621207,  0.16028278,  0.18345308, -0.1674302 ,  0.00486203,\n",
       "         0.19709731,  0.2993225 , -0.40234512, -0.44409321,  0.15803802,\n",
       "         0.33408119,  0.01433246, -0.12781477,  0.01762599]),\n",
       " array([-0.49399583, -1.10710467, -0.04754793,  1.11101514, -0.31623025,\n",
       "        -0.53589956,  0.04988556,  0.46723109,  0.0490247 ,  0.19960762,\n",
       "        -0.3491438 , -0.02460016,  0.08793773, -0.05387077, -0.32403304,\n",
       "         0.12698175,  0.11997873,  0.05262385, -0.05125232, -0.16718483,\n",
       "         0.23188712,  0.56094015, -0.32499257, -0.68385434,  0.17616394,\n",
       "         0.54320365, -0.14158088, -0.26986985,  0.13531196]),\n",
       " array([-0.46504046, -1.16702999, -0.03151275,  1.18394855, -0.51930554,\n",
       "        -0.46445751,  0.27302286,  0.34803853, -0.04135537,  0.35429467,\n",
       "        -0.4018565 , -0.23073061,  0.24490895,  0.05063475, -0.53954571,\n",
       "         0.14302359,  0.35889516,  0.09044308, -0.20974167, -0.16656998,\n",
       "         0.32883326,  0.4426152 , -0.47180275, -0.56898983,  0.30220572,\n",
       "         0.40447598, -0.21669449, -0.13827613,  0.13021145]),\n",
       " array([-0.30202471, -1.3813138 , -0.19867205,  1.28769469, -0.15011079,\n",
       "        -0.63114768, -0.00224492,  0.51912331,  0.14595395,  0.22343688,\n",
       "        -0.38577077, -0.22599171,  0.01990366,  0.16917732, -0.39229388,\n",
       "        -0.06547466,  0.30568774,  0.3659141 , -0.25728233, -0.33261217,\n",
       "         0.35899045,  0.64056977, -0.43205694, -0.76122783,  0.08539792,\n",
       "         0.49058578,  0.05407332, -0.08374856, -0.04290423]),\n",
       " array([-0.4760929 , -1.33492861,  0.23340093,  1.31312724, -0.70108738,\n",
       "        -0.66039625,  0.34494709,  0.42428386, -0.02227437,  0.31935655,\n",
       "        -0.28339068, -0.25751957,  0.10970341,  0.1344707 , -0.34752581,\n",
       "        -0.0088514 ,  0.23431017,  0.10353051, -0.2729275 , -0.12318541,\n",
       "         0.49076075,  0.46781139, -0.70054579, -0.51846177,  0.51214752,\n",
       "         0.34708622, -0.3637198 , -0.09605157,  0.1528472 ]),\n",
       " array([-5.09126486e-01, -1.35010191e+00,  1.11047487e-01,  1.46497116e+00,\n",
       "        -5.26723069e-01, -5.74723649e-01,  1.22063475e-01,  3.41510722e-01,\n",
       "        -1.47723153e-03,  5.08038885e-01, -4.73079244e-01, -2.47283494e-01,\n",
       "        -9.55651790e-04,  1.40851643e-01, -2.06467163e-01,  2.41371548e-01,\n",
       "        -1.28173781e-01,  1.38829844e-01, -4.52730504e-03, -2.36224197e-01,\n",
       "         1.57514178e-01,  6.71125301e-01, -5.28837801e-01, -6.54930035e-01,\n",
       "         4.74356754e-01,  4.07020430e-01, -3.15508637e-01, -1.55250464e-01,\n",
       "         1.54887470e-01]),\n",
       " array([-0.58347626, -1.22941081,  0.18576703,  1.34529136, -0.66005435,\n",
       "        -0.59483704,  0.25116226,  0.48987628,  0.04904031,  0.16092998,\n",
       "        -0.45694234,  0.12803519, -0.0051537 , -0.24314632, -0.12401436,\n",
       "         0.37654538, -0.22139872,  0.01913973,  0.12810083, -0.06698263,\n",
       "         0.22818051,  0.44073768, -0.5915617 , -0.49106162,  0.41803916,\n",
       "         0.27664036, -0.22164206, -0.11673715,  0.12734912]),\n",
       " array([-0.44194633, -1.2956047 ,  0.09361845,  1.38610927, -0.65393343,\n",
       "        -0.66940474,  0.35190312,  0.40773794, -0.14559881,  0.46201804,\n",
       "        -0.37362282, -0.24843093,  0.24523021,  0.04531843, -0.61881341,\n",
       "         0.19899577,  0.35860565, -0.04051025, -0.28940881,  0.00816106,\n",
       "         0.4113825 ,  0.44949928, -0.5458369 , -0.56795812,  0.36041831,\n",
       "         0.35485206, -0.19965529, -0.14093924,  0.12095227]),\n",
       " array([-0.42850632, -1.42031254,  0.16601119,  1.42585584, -0.66226102,\n",
       "        -0.56549413,  0.37904533,  0.22068787, -0.20417814,  0.57596257,\n",
       "        -0.17683691, -0.41919795,  0.03783489,  0.12157595, -0.49874709,\n",
       "         0.31715841,  0.3031758 , -0.18342136, -0.26161259,  0.28702044,\n",
       "         0.15692655,  0.32023338, -0.38718504, -0.4735424 ,  0.15462354,\n",
       "         0.38032233, -0.12699051, -0.03684899,  0.01946991]),\n",
       " array([-0.50863465, -1.05024047,  0.07251287,  1.05389043, -0.68418683,\n",
       "        -0.32766617,  0.22156028,  0.33676048, -0.10205597,  0.40473672,\n",
       "        -0.25775219, -0.01883931, -0.13086732,  0.01393276, -0.3494974 ,\n",
       "         0.18573525,  0.02469048,  0.13403162, -0.11629507, -0.12024134,\n",
       "         0.31818176,  0.58582288, -0.45789367, -0.64360616,  0.28699543,\n",
       "         0.3228196 , -0.19808663, -0.09327008,  0.12075464]),\n",
       " array([-0.51689593, -1.19964396,  0.1841849 ,  1.16693968, -0.76174776,\n",
       "        -0.45819625,  0.51096569,  0.34305033, -0.33848478,  0.54859743,\n",
       "        -0.182064  , -0.39883474,  0.08769516,  0.20369011, -0.64430114,\n",
       "         0.06063713,  0.52976321,  0.00795888, -0.42593762,  0.20738754,\n",
       "         0.38888596,  0.13506313, -0.3881795 , -0.28532247,  0.10582473,\n",
       "         0.15494185, -0.02905049, -0.03254626,  0.04595915]),\n",
       " array([-0.50130502, -1.18364459,  0.03276042,  1.17525761, -0.56580981,\n",
       "        -0.40267414,  0.37422228,  0.16444804, -0.02082993,  0.48448245,\n",
       "        -0.48156801, -0.25009837,  0.25139693,  0.050013  , -0.55149538,\n",
       "         0.21553731,  0.20289021,  0.0610034 ,  0.0152568 , -0.11148459,\n",
       "         0.07500475,  0.54916936, -0.43526797, -0.56864596,  0.20725959,\n",
       "         0.47445896, -0.24377724, -0.10647967,  0.10959582]),\n",
       " array([-0.44487203, -1.31201092,  0.0855841 ,  1.37944837, -0.6643584 ,\n",
       "        -0.59177285,  0.3927692 ,  0.39133007, -0.26661284,  0.45997338,\n",
       "        -0.17506427, -0.37094802,  0.06770717,  0.25189101, -0.54318128,\n",
       "         0.03250297,  0.35813273,  0.01926332, -0.2513493 ,  0.11028289,\n",
       "         0.29058842,  0.24813555, -0.32146603, -0.39706986,  0.10126299,\n",
       "         0.2447388 , -0.04703574, -0.0814113 ,  0.05742051]),\n",
       " array([-0.54549203, -1.13754034,  0.20478587,  1.19432493, -0.83317619,\n",
       "        -0.45306516,  0.54064631,  0.26975717, -0.37564434,  0.48099534,\n",
       "        -0.10682372, -0.26866867, -0.01886006,  0.15075764, -0.45324964,\n",
       "         0.2884551 ,  0.1139544 , -0.06499837, -0.19028779,  0.17133814,\n",
       "         0.14307362,  0.32903037, -0.37248836, -0.24963976,  0.14438803,\n",
       "         0.21916466, -0.22047635, -0.02712059,  0.09288599]),\n",
       " array([-0.52351489, -1.19216592,  0.10718974,  1.42277403, -0.71725511,\n",
       "        -0.70438101,  0.30790646,  0.61096036, -0.20287221,  0.17498013,\n",
       "        -0.31880498, -0.01395572,  0.15865691, -0.00350822, -0.47491483,\n",
       "         0.22335743,  0.30544689, -0.0562429 , -0.18351795, -0.18073696,\n",
       "         0.42444995,  0.4366257 , -0.43532002, -0.71092201,  0.41553564,\n",
       "         0.40307662, -0.17882746, -0.23421818,  0.16723124]),\n",
       " array([-0.67666339, -1.14545791,  0.40358946,  1.26492556, -0.84004812,\n",
       "        -0.62015375,  0.3774282 ,  0.40139021,  0.02264003,  0.32933939,\n",
       "        -0.6659477 , -0.0860445 ,  0.44391481,  0.04061353, -0.63417735,\n",
       "         0.20971664,  0.24523463, -0.05647574, -0.07159803, -0.06207093,\n",
       "         0.29409216,  0.37838358, -0.50009238, -0.51370459,  0.42107599,\n",
       "         0.35801777, -0.3512344 , -0.16574493,  0.22278241]),\n",
       " array([-0.46233003, -1.21842487,  0.04698435,  1.30908427, -0.51122978,\n",
       "        -0.68726322,  0.21982257,  0.36609449,  0.05206117,  0.42356728,\n",
       "        -0.43875641, -0.3172305 ,  0.23563443,  0.24080804, -0.50398206,\n",
       "        -0.01767563,  0.1272021 ,  0.15314257, -0.0407012 , -0.05433373,\n",
       "         0.13395564,  0.36432816, -0.27076575, -0.37487506,  0.12357651,\n",
       "         0.28887388, -0.16250531, -0.08897934,  0.08690342]),\n",
       " array([-0.4137007 , -1.26651318, -0.05176894,  1.21862348, -0.31245696,\n",
       "        -0.53922555,  0.05665036,  0.266447  ,  0.2079807 ,  0.43312267,\n",
       "        -0.48575875, -0.17858497,  0.06950735,  0.01607039, -0.31182678,\n",
       "         0.21878334, -0.00566057, -0.01258742,  0.03308589,  0.05724301,\n",
       "         0.24927116,  0.35590293, -0.51255601, -0.49656908,  0.21906442,\n",
       "         0.31537505, -0.13808125, -0.07108267,  0.10265993]),\n",
       " array([-0.5221718 , -1.28953046,  0.30256629,  1.27460064, -0.71686568,\n",
       "        -0.5988989 ,  0.32205302,  0.32140282,  0.03514654,  0.39356948,\n",
       "        -0.4734629 , -0.21652172,  0.20753579,  0.09874684, -0.39035569,\n",
       "         0.14736937,  0.06345886,  0.01391232, -0.10597279,  0.04411962,\n",
       "         0.3645249 ,  0.29117564, -0.70677927, -0.22703681,  0.51692845,\n",
       "         0.08173302, -0.39109225,  0.04040212,  0.14314418]),\n",
       " array([-4.65841099e-01, -1.43138090e+00,  1.05641405e-01,  1.65852938e+00,\n",
       "        -6.58361312e-01, -9.17975874e-01,  4.20701500e-01,  6.94221076e-01,\n",
       "        -3.30289784e-01,  2.70329373e-01, -1.06776945e-01, -2.78380184e-01,\n",
       "        -1.04139842e-01,  2.59341940e-01, -4.17822997e-01, -1.22806985e-03,\n",
       "         3.53289558e-01,  1.36711398e-01, -3.53333262e-01,  3.93418267e-02,\n",
       "         4.53908355e-01,  2.80083635e-01, -6.50024464e-01, -4.03323937e-01,\n",
       "         3.84280032e-01,  2.81772888e-01, -2.65010224e-01, -4.92562877e-02,\n",
       "         1.16131960e-01]),\n",
       " array([-0.53712687, -1.12938022,  0.09791259,  1.28198923, -0.82482728,\n",
       "        -0.49479191,  0.46431186,  0.55581428, -0.42226603,  0.33487679,\n",
       "        -0.14143264, -0.18481648, -0.02152832,  0.12405545, -0.40769446,\n",
       "         0.00548269,  0.44812006, -0.07708769, -0.29783562, -0.00710781,\n",
       "         0.56168532,  0.13317168, -0.43838352, -0.33862383,  0.46280318,\n",
       "         0.08476461, -0.2673005 , -0.17082232,  0.22985978]),\n",
       " array([-0.44955426, -1.3607088 ,  0.06083084,  1.41237099, -0.45972743,\n",
       "        -0.74360487,  0.20622861,  0.61270771, -0.00884568,  0.15562139,\n",
       "        -0.349855  , -0.16846879,  0.04745423,  0.1462993 , -0.35470009,\n",
       "        -0.01116998,  0.18096501,  0.29169228, -0.13399571, -0.27902695,\n",
       "         0.2772674 ,  0.67298429, -0.54325854, -0.76817434,  0.31493371,\n",
       "         0.47883741, -0.18423855, -0.14898602,  0.13004828]),\n",
       " array([-0.56527999, -1.15160907,  0.25554945,  1.17782619, -0.81968832,\n",
       "        -0.41950666,  0.30655508,  0.40808962, -0.0233807 ,  0.31509634,\n",
       "        -0.53052903, -0.01082962,  0.24526434,  0.00283621, -0.61563046,\n",
       "         0.11826974,  0.26136153,  0.2149384 , -0.22841001, -0.09768921,\n",
       "         0.32094975,  0.47925416, -0.56745541, -0.50048232,  0.3234316 ,\n",
       "         0.33810667, -0.31463564, -0.09004801,  0.19439635]),\n",
       " array([-0.44743613, -1.21175866,  0.10475892,  1.22328681, -0.69692249,\n",
       "        -0.6683183 ,  0.46840561,  0.50988004, -0.03142406,  0.15917635,\n",
       "        -0.30637453, -0.0422947 ,  0.06716905, -0.14381589, -0.38163319,\n",
       "         0.17885488,  0.12006934,  0.08093551,  0.03029796, -0.09186367,\n",
       "         0.12384516,  0.58813105, -0.37595861, -0.63319257,  0.21331506,\n",
       "         0.37690721, -0.29504681, -0.11315588,  0.22261428]),\n",
       " array([-0.50963911, -1.11170302,  0.04668797,  1.17960132, -0.64093317,\n",
       "        -0.56124548,  0.37579242,  0.43024639,  0.06606475,  0.30548414,\n",
       "        -0.58117477, -0.1735831 ,  0.28056579,  0.10324386, -0.66978358,\n",
       "         0.09953333,  0.27875616,  0.17089976, -0.01412374, -0.17470277,\n",
       "         0.09639876,  0.55708079, -0.27715954, -0.61227447,  0.09919355,\n",
       "         0.42998791, -0.16410144, -0.13750837,  0.13169581]),\n",
       " array([-0.42864853, -1.22751924, -0.0546955 ,  1.20820787, -0.50680321,\n",
       "        -0.3117343 ,  0.05966125,  0.35952588,  0.07940824,  0.33720641,\n",
       "        -0.4852575 ,  0.06241293,  0.03361713, -0.18047744, -0.37417505,\n",
       "         0.29690737,  0.04841829,  0.13507776, -0.09478724, -0.11409711,\n",
       "         0.25532617,  0.64396905, -0.54033906, -0.61381589,  0.26805414,\n",
       "         0.3234469 , -0.2383491 , -0.02746437,  0.10957212]),\n",
       " array([-0.44047549, -1.27545562,  0.07352849,  1.20350059, -0.54640205,\n",
       "        -0.48139807,  0.30856533,  0.33348088, -0.07532369,  0.37770496,\n",
       "        -0.32617556, -0.24064093,  0.0644452 ,  0.04820376, -0.31239496,\n",
       "         0.1882162 ,  0.05148935,  0.07666139, -0.06442401,  0.0222222 ,\n",
       "         0.18674809,  0.29437002, -0.45108765, -0.32133575,  0.27748189,\n",
       "         0.19386173, -0.21418191, -0.02350509,  0.09657876]),\n",
       " array([-0.51795409, -1.13549293,  0.02746938,  1.25051192, -0.52736616,\n",
       "        -0.51257632,  0.07587392,  0.44496513, -0.09424367,  0.36216466,\n",
       "        -0.24891019, -0.08793517, -0.0080631 ,  0.0315607 , -0.29945208,\n",
       "         0.15851826,  0.13301548,  0.09701868, -0.1861433 , -0.26111785,\n",
       "         0.35990421,  0.57905764, -0.42693426, -0.69715579,  0.27688418,\n",
       "         0.38935813, -0.11802285, -0.13472331,  0.09588118]),\n",
       " array([-0.42047387, -1.22584679, -0.07413897,  1.27709358, -0.45235359,\n",
       "        -0.64758836,  0.26147632,  0.44182736,  0.00461051,  0.40353803,\n",
       "        -0.37903365, -0.37577483,  0.1699614 ,  0.29823994, -0.66823398,\n",
       "        -0.00440372,  0.37342468,  0.24325419, -0.32269709, -0.02812794,\n",
       "         0.30264005,  0.37984363, -0.39002   , -0.42363181, -0.00795567,\n",
       "         0.33614691, -0.02273461, -0.02606804,  0.00220716]),\n",
       " array([-0.34788971, -1.29328388, -0.26968911,  1.4225671 , -0.168657  ,\n",
       "        -0.73949115, -0.10416157,  0.61136627,  0.17160577,  0.27254472,\n",
       "        -0.45193239, -0.26799614,  0.0988467 ,  0.25134432, -0.42277938,\n",
       "        -0.12794433,  0.26675036,  0.39062978, -0.20149204, -0.29601185,\n",
       "         0.27599203,  0.57272353, -0.47284586, -0.65739287,  0.209006  ,\n",
       "         0.48979701, -0.09157082, -0.19362027,  0.10023238]),\n",
       " array([-0.42730162, -1.27180456, -0.04129679,  1.37627379, -0.4872189 ,\n",
       "        -0.73461505,  0.22716404,  0.63174346, -0.16340216,  0.26053502,\n",
       "        -0.15305123, -0.2655675 , -0.0062192 ,  0.23050867, -0.39945803,\n",
       "        -0.07137437,  0.42001735,  0.03575072, -0.42380298,  0.01183355,\n",
       "         0.55302097,  0.28837844, -0.55293567, -0.46663173,  0.39647011,\n",
       "         0.29940394, -0.27264369, -0.13997405,  0.16854118]),\n",
       " array([-0.37142991, -1.31572773, -0.12469975,  1.37777686, -0.2796152 ,\n",
       "        -0.74021825,  0.02354115,  0.49701467,  0.19519906,  0.23776003,\n",
       "        -0.46691416, -0.15569289,  0.20793874, -0.0026974 , -0.36455248,\n",
       "         0.10169389,  0.16605586,  0.18382111, -0.14226868, -0.27313338,\n",
       "         0.28446417,  0.63737151, -0.44533132, -0.71199658,  0.18083251,\n",
       "         0.47377146, -0.07784055, -0.12084776,  0.05070276]),\n",
       " array([-0.45599361, -1.20249297, -0.04159234,  1.30138849, -0.49786754,\n",
       "        -0.61887607,  0.19172351,  0.58509033, -0.05815956,  0.16720771,\n",
       "        -0.30358486, -0.09452193,  0.06107949,  0.06264738, -0.46508583,\n",
       "         0.03341832,  0.32290012,  0.25228903, -0.2079261 , -0.22149619,\n",
       "         0.24266157,  0.52112271, -0.37839142, -0.53265267,  0.15921983,\n",
       "         0.33046271, -0.11328616, -0.11502482,  0.10026052]),\n",
       " array([-0.47828231, -1.2863052 ,  0.11017163,  1.43834178, -0.65709621,\n",
       "        -0.75402942,  0.29936268,  0.60113995, -0.20049727,  0.33658936,\n",
       "        -0.2683903 , -0.30413112,  0.1382271 ,  0.38834328, -0.62125378,\n",
       "        -0.14510071,  0.4729909 ,  0.08005219, -0.46883421,  0.0848512 ,\n",
       "         0.44930201,  0.27649797, -0.39964399, -0.39414415,  0.27951521,\n",
       "         0.24484701, -0.19431463, -0.12228248,  0.11502897]),\n",
       " array([-5.51703027e-01, -1.24396147e+00,  1.39549435e-01,  1.51914961e+00,\n",
       "        -7.67727795e-01, -8.84671335e-01,  4.45499574e-01,  9.02343502e-01,\n",
       "        -3.90303045e-01, -5.60164232e-02, -7.74379474e-04,  1.49496721e-01,\n",
       "        -2.87485198e-01,  2.92989984e-03, -2.78953447e-01,  1.44481819e-01,\n",
       "         7.18779832e-02,  1.31304202e-01, -1.37058925e-01, -3.98265384e-02,\n",
       "         2.29830803e-01,  5.11141984e-01, -4.12837445e-01, -5.93908190e-01,\n",
       "         2.70828171e-01,  3.74810393e-01, -2.46574279e-01, -1.80945580e-01,\n",
       "         2.02187093e-01]),\n",
       " array([-0.49658016, -1.21700523,  0.08783394,  1.32187508, -0.53503894,\n",
       "        -0.6692804 ,  0.25586987,  0.41190336, -0.02555247,  0.30314806,\n",
       "        -0.31272868, -0.27548529,  0.0863205 ,  0.151606  , -0.28078899,\n",
       "        -0.01580859,  0.16090925,  0.12033772, -0.10981933, -0.11418098,\n",
       "         0.29730241,  0.35996509, -0.39980316, -0.49600491,  0.25573733,\n",
       "         0.30059198, -0.08877595, -0.13492662,  0.08263569]),\n",
       " array([-0.43950023, -1.27390762, -0.04277415,  1.42321988, -0.46238933,\n",
       "        -0.75672883,  0.14887613,  0.62397733, -0.04205604,  0.18329765,\n",
       "        -0.19560173, -0.15621796,  0.04423281,  0.11274679, -0.51027107,\n",
       "        -0.04952674,  0.47357292,  0.10987623, -0.45116254,  0.02645168,\n",
       "         0.50835529,  0.339435  , -0.46233471, -0.49588708,  0.15663765,\n",
       "         0.25216647, -0.03251329, -0.10277438,  0.09336497]),\n",
       " array([-0.4035584 , -1.27033061, -0.23472347,  1.52693105, -0.30187396,\n",
       "        -0.84834956,  0.06185377,  0.70620326, -0.12739186,  0.26755659,\n",
       "        -0.06595244, -0.28913733, -0.14345793,  0.27232014, -0.35849397,\n",
       "        -0.1753212 ,  0.31886314,  0.35896276, -0.39495019, -0.18981198,\n",
       "         0.38772932,  0.57088952, -0.38549933, -0.65632968,  0.06402585,\n",
       "         0.36466715,  0.01010282, -0.12090444,  0.07742577]),\n",
       " array([-0.34142781, -1.45757348, -0.15641681,  1.65225787, -0.30721274,\n",
       "        -1.01033406,  0.19670835,  0.71230681, -0.21868706,  0.25329261,\n",
       "         0.13915429, -0.30386753, -0.43951069,  0.22291518, -0.11903462,\n",
       "        -0.03571231,  0.12386608,  0.29326586, -0.27972293, -0.21946144,\n",
       "         0.42884863,  0.62555006, -0.51937286, -0.72984701,  0.19794346,\n",
       "         0.43694129, -0.09293212, -0.11172772,  0.08097582]),\n",
       " array([-0.42567323, -1.41690376, -0.08547477,  1.54102989, -0.41204397,\n",
       "        -0.68934203,  0.2370116 ,  0.49105495, -0.06471574,  0.37888359,\n",
       "        -0.30451895, -0.4959456 ,  0.19345778,  0.31162812, -0.61492662,\n",
       "        -0.18367805,  0.48510145,  0.43615105, -0.29038257, -0.22485845,\n",
       "         0.17641644,  0.50593167, -0.3481565 , -0.5740356 ,  0.08076821,\n",
       "         0.39721017, -0.03315824, -0.10708548,  0.05420904]),\n",
       " array([-0.40236205, -1.31275369, -0.15727177,  1.5104451 , -0.49557304,\n",
       "        -0.8010405 ,  0.30532792,  0.85100888, -0.33875536,  0.11841009,\n",
       "        -0.07119611, -0.10785563, -0.21518529,  0.242262  , -0.36480212,\n",
       "        -0.13122348,  0.2396923 ,  0.50783944, -0.41783498, -0.32367002,\n",
       "         0.49779505,  0.70310405, -0.73565751, -0.67031189,  0.4405042 ,\n",
       "         0.38472618, -0.2336804 , -0.15021771,  0.1494058 ]),\n",
       " array([-0.40963109, -1.28913967, -0.17066179,  1.39469615, -0.36002485,\n",
       "        -0.8056363 ,  0.17641622,  0.80493471,  0.05538491,  0.16584089,\n",
       "        -0.40699466, -0.17931287,  0.08660507,  0.05163147, -0.68667121,\n",
       "         0.07678334,  0.49136558,  0.28144866, -0.32329827, -0.13349266,\n",
       "         0.38155325,  0.5254409 , -0.41148784, -0.74142533,  0.07315922,\n",
       "         0.43704293, -0.03698159, -0.12692889,  0.10018955]),\n",
       " array([-0.43702343, -1.29907107, -0.13415425,  1.50117485, -0.35578735,\n",
       "        -0.86901142,  0.13470821,  0.87487371, -0.15429397, -0.07655861,\n",
       "         0.04352874, -0.03347102, -0.31237743,  0.01367377, -0.12692761,\n",
       "        -0.03230961,  0.25109248,  0.17562392, -0.18136847, -0.20754199,\n",
       "         0.4098915 ,  0.38907854, -0.27534834, -0.64530505,  0.08752579,\n",
       "         0.2451757 ,  0.0867114 , -0.1248623 ,  0.07576149]),\n",
       " array([-0.47357084, -1.28434292, -0.01050271,  1.5971921 , -0.69659643,\n",
       "        -0.86663759,  0.48605447,  0.85593211, -0.61902118,  0.0715127 ,\n",
       "         0.18459365, -0.0666428 , -0.37307491,  0.23029439, -0.23469748,\n",
       "        -0.01788624,  0.26668193,  0.13332159, -0.43938296,  0.11820194,\n",
       "         0.47869991,  0.08580916, -0.42663828, -0.25184505,  0.24344704,\n",
       "         0.09429762, -0.06911217, -0.1018495 ,  0.10968796]),\n",
       " array([-0.43648149, -1.20568665, -0.16918904,  1.41861374, -0.36008146,\n",
       "        -0.75698411, -0.01612068,  0.84753868, -0.07712414,  0.01722956,\n",
       "        -0.19415798,  0.09591454, -0.19510183, -0.03089843, -0.1974351 ,\n",
       "         0.11936476,  0.1111899 ,  0.10352376, -0.10040601, -0.11236902,\n",
       "         0.26615152,  0.42833172, -0.29730069, -0.65800711,  0.11267469,\n",
       "         0.40788563, -0.00773765, -0.16331634,  0.07376951]),\n",
       " array([-0.46749875, -1.24534109, -0.18675787,  1.58862292, -0.42267514,\n",
       "        -0.70149789,  0.01987792,  0.69484118, -0.2437416 ,  0.44322362,\n",
       "        -0.20914419, -0.35804909, -0.17519913,  0.37343641, -0.31805924,\n",
       "        -0.02166336,  0.37081603,  0.12864014, -0.48647128, -0.07144585,\n",
       "         0.56445242,  0.39095332, -0.537352  , -0.65734186,  0.28193933,\n",
       "         0.4186767 , -0.02724548, -0.23114529,  0.10861866]),\n",
       " array([-0.41675345, -1.24312321, -0.19865449,  1.3580733 , -0.32621793,\n",
       "        -0.57967958,  0.14574555,  0.50568207, -0.17754302,  0.30599826,\n",
       "        -0.1831853 , -0.27521843, -0.07090458,  0.14154694, -0.24119053,\n",
       "         0.12979555,  0.31587148,  0.04216741, -0.23864305, -0.14071564,\n",
       "         0.23091728,  0.45077885, -0.28512519, -0.61765573,  0.03609395,\n",
       "         0.3491651 ,  0.03287493, -0.09201169,  0.06782952]),\n",
       " array([-4.52772129e-01, -1.24801137e+00, -7.60470124e-02,  1.39643213e+00,\n",
       "        -3.58706219e-01, -7.57747717e-01,  8.60640552e-02,  4.91016300e-01,\n",
       "         7.21863128e-02,  3.16688925e-01, -2.93778230e-01, -3.31728055e-01,\n",
       "         4.69639175e-02,  3.40309894e-01, -3.99354905e-01, -1.27299577e-01,\n",
       "         2.56445239e-01,  3.25263546e-01, -2.06529129e-01, -1.98255591e-01,\n",
       "         1.35346252e-01,  4.86976468e-01, -2.21509039e-01, -6.13927763e-01,\n",
       "         1.15983995e-03,  3.55451631e-01,  3.43450423e-02, -1.29858699e-01,\n",
       "         9.66040651e-02]),\n",
       " array([-0.45887368, -1.3294106 ,  0.05744055,  1.50868919, -0.59492389,\n",
       "        -0.91498969,  0.29513158,  0.71355274, -0.06516933,  0.20107109,\n",
       "        -0.21529542, -0.272956  , -0.03195473,  0.33607176, -0.29887058,\n",
       "        -0.16084712,  0.02248895,  0.3585561 , -0.1362313 , -0.11084572,\n",
       "         0.26282657,  0.41493091, -0.55521135, -0.45054763,  0.39340532,\n",
       "         0.22911417, -0.26324094, -0.06648244,  0.15670378]),\n",
       " array([-4.23349048e-01, -1.32987775e+00,  5.20424835e-04,  1.38219558e+00,\n",
       "        -5.83183062e-01, -6.98108796e-01,  4.33323384e-01,  5.06493979e-01,\n",
       "        -1.85064580e-01,  3.48779067e-01, -1.40920519e-01, -3.62108141e-01,\n",
       "        -1.70656574e-02,  2.17257442e-01, -4.54067232e-01, -5.45956504e-02,\n",
       "         3.21641980e-01,  2.12468762e-01, -2.10536014e-01,  3.93418932e-02,\n",
       "         2.40047517e-01,  2.87021978e-01, -4.64370289e-01, -3.57661828e-01,\n",
       "         2.52090740e-01,  1.54978956e-01, -2.67438193e-01, -3.25361709e-02,\n",
       "         2.10881377e-01]),\n",
       " array([-0.40888337, -1.32764965, -0.13663195,  1.44153357, -0.43601911,\n",
       "        -0.77924962,  0.31578038,  0.67616861, -0.23958385,  0.41309362,\n",
       "        -0.05173079, -0.4191836 , -0.23080225,  0.34960125, -0.4496598 ,\n",
       "        -0.28549021,  0.4185535 ,  0.45978512, -0.37050812, -0.11534439,\n",
       "         0.47852431,  0.3925938 , -0.54358876, -0.40542771,  0.1343223 ,\n",
       "         0.10021431, -0.08001622, -0.00848849,  0.13157875]),\n",
       " array([-3.78808963e-01, -1.33635140e+00, -1.40255112e-01,  1.31085526e+00,\n",
       "        -3.43541545e-01, -6.26183865e-01,  3.16545843e-01,  4.67786348e-01,\n",
       "        -1.97950404e-01,  3.88282706e-01, -6.99648196e-02, -4.36733272e-01,\n",
       "        -1.00655265e-01,  2.65998448e-01, -4.44419432e-01, -1.01915909e-01,\n",
       "         4.11269691e-01,  3.69243429e-01, -4.15453610e-01, -8.34245020e-02,\n",
       "         4.09762351e-01,  3.63507039e-01, -4.95813630e-01, -5.14073508e-01,\n",
       "         1.42738561e-01,  2.65243113e-01, -1.26778646e-03, -8.77766757e-02,\n",
       "         8.69632293e-02]),\n",
       " array([-0.56957488, -1.23019466,  0.09217941,  1.39745098, -0.59618969,\n",
       "        -0.63109354,  0.3247716 ,  0.51486614, -0.270028  ,  0.38936628,\n",
       "        -0.13765226, -0.35957748, -0.13061435,  0.3933842 , -0.38235443,\n",
       "        -0.16353185,  0.28238264,  0.39959312, -0.35125503, -0.11577373,\n",
       "         0.23673024,  0.48675018, -0.43554014, -0.45295584,  0.07917844,\n",
       "         0.29458772, -0.05401252, -0.06179916,  0.07348223])]"
      ]
     },
     "execution_count": 49,
     "metadata": {},
     "output_type": "execute_result"
    }
   ],
   "source": [
    "ff"
   ]
  },
  {
   "cell_type": "code",
   "execution_count": 52,
   "metadata": {},
   "outputs": [
    {
     "data": {
      "text/plain": [
       "array([-0.47728882, -1.22803101,  0.0384765 ,  1.30690827, -0.55244761,\n",
       "       -0.61734387,  0.2624852 ,  0.49309876, -0.11743319,  0.31489579,\n",
       "       -0.26081514, -0.20098099,  0.00714706,  0.12063708, -0.39933033,\n",
       "        0.07002527,  0.23854206,  0.12736303, -0.21391787, -0.07031825,\n",
       "        0.31574319,  0.41812136, -0.45455189, -0.51040006,  0.24511477,\n",
       "        0.31981629, -0.15377424, -0.10942992,  0.11041708])"
      ]
     },
     "execution_count": 52,
     "metadata": {},
     "output_type": "execute_result"
    }
   ],
   "source": [
    "np.nanmean(ff, axis=0)"
   ]
  },
  {
   "cell_type": "code",
   "execution_count": 38,
   "metadata": {},
   "outputs": [
    {
     "data": {
      "text/plain": [
       "array([ 1.00000000e+00, -3.71161369e-01, -6.98330773e-01, -1.83629875e-01,\n",
       "        2.99101067e-01, -2.51778318e-01,  2.48225029e-02,  1.67258203e-01,\n",
       "        7.63119109e-02, -1.22649106e-03,  9.50921920e-02,  6.66172822e-02,\n",
       "       -5.66810578e-02, -2.09298483e-01, -8.06922651e-02,  7.98182716e-02,\n",
       "       -5.69610994e-02, -5.49184570e-02,  1.44634358e-01,  1.35613834e-01,\n",
       "       -1.46334941e-01, -3.28135785e-04,  2.47555297e-01, -4.73114650e-02,\n",
       "       -2.09996648e-01, -1.55580014e-01,  8.09362243e-02,  2.23984870e-01,\n",
       "        6.26758069e-02, -1.42931718e-01])"
      ]
     },
     "execution_count": 38,
     "metadata": {},
     "output_type": "execute_result"
    }
   ],
   "source": [
    "librosa.lpc(data, order = 29, axis = 0)"
   ]
  },
  {
   "cell_type": "code",
   "execution_count": 58,
   "metadata": {},
   "outputs": [],
   "source": [
    "def get_lpc(signal, order = 12, sr = 25000, frame_length = 512, hop_length = 256):\n",
    "    '''\n",
    "    função para extrair LPCs\n",
    "    \n",
    "    retorna um vetor de média sobre frames\n",
    "    e a matrix para todos os frames\n",
    "    '''\n",
    "    ordem = (sr // 1000) + 4\n",
    "    window = np.hamming(frame_length)\n",
    "    last_sf = len(signal) - frame_length\n",
    "    ff = []\n",
    "    for start in range(0, last_sf + 1, hop_length):\n",
    "        end_sf = start + frame_length\n",
    "        fi = data[start : end_sf]\n",
    "        fi_w = fi * window\n",
    "        f_lpc = librosa.lpc(fi_w, order = ordem)\n",
    "        ff.append(f_lpc[1:])\n",
    "\n",
    "    media_lpc = np.nanmean(ff, axis = 0)\n",
    "    lpcs = ff\n",
    "\n",
    "    return media_lpc , lpcs\n",
    "    \n"
   ]
  },
  {
   "cell_type": "code",
   "execution_count": 81,
   "metadata": {},
   "outputs": [],
   "source": [
    "def get_mfcc(signal, sr = 25000, order = 12, frame_length = 512, hop_length = 256):\n",
    "    ''' \n",
    "    função para calcular MFCCs\n",
    "    \n",
    "    '''\n",
    "    coeffs = librosa.feature.mfcc(signal, n_mfcc = order, \n",
    "                                  sr = sr,\n",
    "                                  n_fft = frame_length,\n",
    "                                  hop_length = hop_length,\n",
    "                                  window = 'hamming')\n",
    "    \n",
    "    media_coeffs = np.nanmean(coeffs, axis = 1)\n",
    "\n",
    "    return media_coeffs, coeffs.T"
   ]
  },
  {
   "cell_type": "code",
   "execution_count": 83,
   "metadata": {},
   "outputs": [],
   "source": [
    "def get_delta_mfcc(signal, sr = 25000, order = 12, frame_length = 512, hop_length = 256):\n",
    "    ''' \n",
    "    função para calcular delta-MFCCs\n",
    "    \n",
    "    '''\n",
    "    coeffs = librosa.feature.mfcc(signal, n_mfcc = order, \n",
    "                                  sr = sr,\n",
    "                                  n_fft = frame_length,\n",
    "                                  hop_length = hop_length,\n",
    "                                  window = 'hamming')\n",
    "    \n",
    "    delta_coeffs = librosa.feature.delta(coeffs, order=1)\n",
    "    \n",
    "    media_coeffs = np.nanmean(delta_coeffs, axis = 1)\n",
    "\n",
    "    return media_coeffs, delta_coeffs.T"
   ]
  },
  {
   "cell_type": "code",
   "execution_count": 84,
   "metadata": {},
   "outputs": [],
   "source": [
    "def get_delta_delta_mfcc(signal, sr = 25000, order = 12, frame_length = 512, hop_length = 256):\n",
    "    ''' \n",
    "    função para calcular delta-MFCCs\n",
    "    \n",
    "    '''\n",
    "    coeffs = librosa.feature.mfcc(signal, n_mfcc = order, \n",
    "                                  sr = sr,\n",
    "                                  n_fft = frame_length,\n",
    "                                  hop_length = hop_length,\n",
    "                                  window = 'hamming')\n",
    "    \n",
    "    delta_delta_coeffs = librosa.feature.delta(coeffs, order=2)\n",
    "    \n",
    "    media_coeffs = np.nanmean(delta_delta_coeffs, axis = 1)\n",
    "\n",
    "    return media_coeffs, delta_delta_coeffs.T"
   ]
  },
  {
   "cell_type": "code",
   "execution_count": 85,
   "metadata": {},
   "outputs": [
    {
     "data": {
      "text/plain": [
       "(97, 29)"
      ]
     },
     "execution_count": 85,
     "metadata": {},
     "output_type": "execute_result"
    }
   ],
   "source": [
    "m_lpcs, lpcs = get_lpc(data)\n",
    "np.shape(lpcs)"
   ]
  },
  {
   "cell_type": "code",
   "execution_count": 82,
   "metadata": {},
   "outputs": [
    {
     "name": "stderr",
     "output_type": "stream",
     "text": [
      "C:\\Users\\vinic\\AppData\\Local\\Temp\\ipykernel_8916\\1549925914.py:6: FutureWarning: Pass y=[ 6.19323730e-01  6.04064941e-01  6.50512695e-01 ...  9.46044922e-03\n",
      " -4.88281250e-04 -4.54711914e-03] as keyword args. From version 0.10 passing these as positional arguments will result in an error\n",
      "  coeffs = librosa.feature.mfcc(signal, n_mfcc = order,\n"
     ]
    },
    {
     "data": {
      "text/plain": [
       "(99, 12)"
      ]
     },
     "execution_count": 82,
     "metadata": {},
     "output_type": "execute_result"
    }
   ],
   "source": [
    "m_mfcc, mfccs = get_mfcc(data)\n",
    "np.shape(mfccs)"
   ]
  },
  {
   "cell_type": "code",
   "execution_count": 22,
   "metadata": {},
   "outputs": [],
   "source": [
    "import numpy\n",
    "import math\n",
    "\n",
    "def framesig(sig,frame_len,frame_step,winfunc=lambda x:numpy.ones((x,))):\n",
    "    \"\"\"Frame a signal into overlapping frames.\n",
    "\n",
    "    :param sig: the audio signal to frame.\n",
    "    :param frame_len: length of each frame measured in samples.\n",
    "    :param frame_step: number of samples after the start of the previous frame that the next frame should begin.\n",
    "    :param winfunc: the analysis window to apply to each frame. By default no window is applied.    \n",
    "    :returns: an array of frames. Size is NUMFRAMES by frame_len.\n",
    "    \"\"\"\n",
    "    slen = len(sig)\n",
    "    frame_len = int(round(frame_len))\n",
    "    frame_step = int(round(frame_step))\n",
    "    if slen <= frame_len: \n",
    "        numframes = 1\n",
    "    else:\n",
    "        numframes = 1 + int(math.ceil((1.0*slen - frame_len)/frame_step))\n",
    "        \n",
    "    padlen = int((numframes-1)*frame_step + frame_len)\n",
    "    \n",
    "    zeros = numpy.zeros((padlen - slen,))\n",
    "    padsignal = numpy.concatenate((sig,zeros))\n",
    "    \n",
    "    indices = numpy.tile(numpy.arange(0,frame_len),(numframes,1)) + numpy.tile(numpy.arange(0,numframes*frame_step,frame_step),(frame_len,1)).T\n",
    "    indices = numpy.array(indices,dtype=numpy.int32)\n",
    "    frames = padsignal[indices]\n",
    "    win = numpy.tile(winfunc(frame_len),(numframes,1))\n",
    "    wind=numpy.tile(numpy.hamming(frame_len),(numframes,1))\n",
    "    return frames*wind"
   ]
  },
  {
   "cell_type": "code",
   "execution_count": 25,
   "metadata": {},
   "outputs": [
    {
     "data": {
      "text/plain": [
       "(98, 512)"
      ]
     },
     "execution_count": 25,
     "metadata": {},
     "output_type": "execute_result"
    }
   ],
   "source": [
    "fra = 0.02048\n",
    "frams = fra //2\n",
    "frames = framesig(data,frame_length,hop_length)\n",
    "np.shape(frames)"
   ]
  },
  {
   "cell_type": "code",
   "execution_count": 86,
   "metadata": {},
   "outputs": [
    {
     "data": {
      "text/plain": [
       "[10, 10, 10, 10, 10, 10, 10, 10, 10, 10, 10, 10, 10, 10, 10]"
      ]
     },
     "execution_count": 86,
     "metadata": {},
     "output_type": "execute_result"
    }
   ],
   "source": [
    "valor = 10\n",
    "n = 15\n",
    "vetor=[valor] * n\n",
    "vetor"
   ]
  },
  {
   "cell_type": "code",
   "execution_count": 96,
   "metadata": {},
   "outputs": [
    {
     "name": "stdout",
     "output_type": "stream",
     "text": [
      "268.50663229794185\n",
      "3.506729795693839\n",
      "261.12757570165456\n",
      "275.78071848239983\n",
      "14.65314278074527\n"
     ]
    }
   ],
   "source": [
    "from praat_class import Sinal\n",
    "\n",
    "a=Sinal(sinal)\n",
    "a.carrega()\n",
    "a.pitch()\n",
    "print(a.meanF0)\n",
    "print(a.stdevF0)\n",
    "print(a.minF0)\n",
    "print(a.maxF0)\n",
    "print(a.rangeF0)\n",
    "# 5 medidas de F0\n"
   ]
  },
  {
   "cell_type": "code",
   "execution_count": 98,
   "metadata": {},
   "outputs": [
    {
     "name": "stdout",
     "output_type": "stream",
     "text": [
      "0.6723256895056018\n",
      "5.363480831331887\n"
     ]
    }
   ],
   "source": [
    "a.jitter()\n",
    "a.shimmer()\n",
    "print(a.jitt)\n",
    "print(a.shimm)"
   ]
  },
  {
   "cell_type": "code",
   "execution_count": 99,
   "metadata": {},
   "outputs": [
    {
     "name": "stdout",
     "output_type": "stream",
     "text": [
      "15.74109224492911\n",
      "0.7919232231741876\n"
     ]
    }
   ],
   "source": [
    "a.getHNR()\n",
    "a.getGNE()\n",
    "print(a.hnr)\n",
    "print(a.gne)"
   ]
  },
  {
   "cell_type": "code",
   "execution_count": 102,
   "metadata": {},
   "outputs": [
    {
     "name": "stdout",
     "output_type": "stream",
     "text": [
      "761.7292887051074\n",
      "388.97943640567036\n",
      "1464.4130956561607\n",
      "nan\n",
      "nan\n"
     ]
    }
   ],
   "source": [
    "a.getFormants()\n",
    "print(a.meanF1)\n",
    "print(a.stdevF1)\n",
    "print(a.maxF1)\n",
    "print(a.minF1)\n",
    "print(a.rangeF1)"
   ]
  },
  {
   "cell_type": "code",
   "execution_count": 103,
   "metadata": {},
   "outputs": [
    {
     "name": "stdout",
     "output_type": "stream",
     "text": [
      "1905.9153992203355\n",
      "521.0748203367749\n",
      "2630.2625318006267\n",
      "1067.1832134276788\n",
      "1563.079318372948\n"
     ]
    }
   ],
   "source": [
    "print(a.meanF2)\n",
    "print(a.stdevF2)\n",
    "print(a.maxF2)\n",
    "print(a.minF2)\n",
    "print(a.rangeF2)"
   ]
  },
  {
   "cell_type": "code",
   "execution_count": 104,
   "metadata": {},
   "outputs": [
    {
     "name": "stdout",
     "output_type": "stream",
     "text": [
      "2792.7178629661416\n",
      "390.99220594075837\n",
      "4338.917653233164\n",
      "2124.2777378728438\n",
      "2214.63991536032\n"
     ]
    }
   ],
   "source": [
    "print(a.meanF3)\n",
    "print(a.stdevF3)\n",
    "print(a.maxF3)\n",
    "print(a.minF3)\n",
    "print(a.rangeF3)"
   ]
  },
  {
   "cell_type": "code",
   "execution_count": 105,
   "metadata": {},
   "outputs": [
    {
     "name": "stdout",
     "output_type": "stream",
     "text": [
      "9.36667552863724\n",
      "-10.752979347180286\n"
     ]
    }
   ],
   "source": [
    "a.getCPPS()\n",
    "a.getSlope()\n",
    "print(a.cpps)\n",
    "print(a.slope)"
   ]
  }
 ],
 "metadata": {
  "kernelspec": {
   "display_name": "base",
   "language": "python",
   "name": "python3"
  },
  "language_info": {
   "codemirror_mode": {
    "name": "ipython",
    "version": 3
   },
   "file_extension": ".py",
   "mimetype": "text/x-python",
   "name": "python",
   "nbconvert_exporter": "python",
   "pygments_lexer": "ipython3",
   "version": "3.9.12"
  },
  "orig_nbformat": 4
 },
 "nbformat": 4,
 "nbformat_minor": 2
}
